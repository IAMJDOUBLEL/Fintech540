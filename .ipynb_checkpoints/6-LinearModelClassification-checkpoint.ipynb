{
 "cells": [
  {
   "cell_type": "markdown",
   "id": "d96b15bd-505d-43cb-a043-f696ce75e595",
   "metadata": {},
   "source": [
    "# Introduction to Classification"
   ]
  },
  {
   "cell_type": "code",
   "execution_count": 1,
   "id": "120f3c47-5274-4e56-8d8c-7d7db89b3657",
   "metadata": {
    "tags": []
   },
   "outputs": [
    {
     "data": {
      "text/html": [
       "<style>.container { width:90% !important; }</style>"
      ],
      "text/plain": [
       "<IPython.core.display.HTML object>"
      ]
     },
     "metadata": {},
     "output_type": "display_data"
    }
   ],
   "source": [
    "import datetime\n",
    "from tqdm import tqdm\n",
    "\n",
    "import numpy as np\n",
    "import pandas as pd\n",
    "import matplotlib as mpl\n",
    "import matplotlib.pyplot as plt\n",
    "import seaborn as sns\n",
    "from scipy.stats import pearsonr\n",
    "\n",
    "import statsmodels.api as sm\n",
    "\n",
    "from sklearn.linear_model import LogisticRegression\n",
    "from sklearn.model_selection import train_test_split\n",
    "from sklearn.metrics import (\n",
    "    accuracy_score,\n",
    "    classification_report,\n",
    "    roc_auc_score,\n",
    "    roc_curve,\n",
    "    confusion_matrix,\n",
    ")\n",
    "from sklearn.discriminant_analysis import LinearDiscriminantAnalysis\n",
    "from sklearn.svm import SVC\n",
    "\n",
    "\n",
    "from IPython.display import display, HTML\n",
    "\n",
    "display(HTML(\"<style>.container { width:90% !important; }</style>\"))\n",
    "\n",
    "\n",
    "def add_lags(df, columns, n_lags=1):\n",
    "    \"\"\"\n",
    "    Add lags to specific columns in a DataFrame.\n",
    "\n",
    "    Parameters:\n",
    "    - df (DataFrame): Original DataFrame.\n",
    "    - columns (list): List of column names for which to create lags.\n",
    "    - n_lags (int): Number of lags to create for each column.\n",
    "\n",
    "    Returns:\n",
    "    - DataFrame: Updated DataFrame with lag columns.\n",
    "    \"\"\"\n",
    "    for column in columns:\n",
    "        for lag in range(1, n_lags + 1):\n",
    "            df[f\"{column}_lag{lag}\"] = df[column].shift(lag)\n",
    "    return df"
   ]
  },
  {
   "cell_type": "code",
   "execution_count": 2,
   "id": "ed496679-d308-4ee4-b82e-252348ba9d3b",
   "metadata": {
    "tags": []
   },
   "outputs": [],
   "source": [
    "df = pd.read_csv(\"data/Rv_daily_lec4.csv\", index_col=0)"
   ]
  },
  {
   "cell_type": "code",
   "execution_count": 3,
   "id": "a0692fc6-03ff-4530-8e2a-f8e90b08876c",
   "metadata": {
    "tags": []
   },
   "outputs": [],
   "source": [
    "col_to_transform = [\"TBill3M\", \"TBill1Y\", \"Oil\", \"Gold\", \"SP_volume\"]\n",
    "for c in col_to_transform:\n",
    "    df[\"{}_ret\".format(c)] = df[c].pct_change(1) * 100\n",
    "df = df.dropna()\n",
    "\n",
    "df = add_lags(df, [\"Return_close\"], n_lags=3)\n",
    "df = df.dropna()\n",
    "df = df.replace([np.inf, -np.inf], 0)"
   ]
  },
  {
   "cell_type": "code",
   "execution_count": 4,
   "id": "d1c1864b-0650-4d80-848e-9260a4c50ae4",
   "metadata": {
    "tags": []
   },
   "outputs": [
    {
     "data": {
      "text/html": [
       "<div>\n",
       "<style scoped>\n",
       "    .dataframe tbody tr th:only-of-type {\n",
       "        vertical-align: middle;\n",
       "    }\n",
       "\n",
       "    .dataframe tbody tr th {\n",
       "        vertical-align: top;\n",
       "    }\n",
       "\n",
       "    .dataframe thead th {\n",
       "        text-align: right;\n",
       "    }\n",
       "</style>\n",
       "<table border=\"1\" class=\"dataframe\">\n",
       "  <thead>\n",
       "    <tr style=\"text-align: right;\">\n",
       "      <th></th>\n",
       "      <th>TBill3M</th>\n",
       "      <th>TBill1Y</th>\n",
       "      <th>Oil</th>\n",
       "      <th>RV</th>\n",
       "      <th>Return_close</th>\n",
       "      <th>Gold</th>\n",
       "      <th>SP_close</th>\n",
       "      <th>SP_volume</th>\n",
       "      <th>Holiday</th>\n",
       "      <th>weekday</th>\n",
       "      <th>TBill3M_ret</th>\n",
       "      <th>TBill1Y_ret</th>\n",
       "      <th>Oil_ret</th>\n",
       "      <th>Gold_ret</th>\n",
       "      <th>SP_volume_ret</th>\n",
       "      <th>Return_close_lag1</th>\n",
       "      <th>Return_close_lag2</th>\n",
       "      <th>Return_close_lag3</th>\n",
       "    </tr>\n",
       "  </thead>\n",
       "  <tbody>\n",
       "    <tr>\n",
       "      <th>1986-01-08</th>\n",
       "      <td>7.40</td>\n",
       "      <td>7.73</td>\n",
       "      <td>25.87</td>\n",
       "      <td>1.211581</td>\n",
       "      <td>-3.677058</td>\n",
       "      <td>332.60</td>\n",
       "      <td>207.970001</td>\n",
       "      <td>180300000</td>\n",
       "      <td>False</td>\n",
       "      <td>2</td>\n",
       "      <td>1.928375</td>\n",
       "      <td>1.844532</td>\n",
       "      <td>0.077369</td>\n",
       "      <td>0.787879</td>\n",
       "      <td>17.843137</td>\n",
       "      <td>1.304468</td>\n",
       "      <td>0.140779</td>\n",
       "      <td>0.659602</td>\n",
       "    </tr>\n",
       "    <tr>\n",
       "      <th>1986-01-09</th>\n",
       "      <td>7.41</td>\n",
       "      <td>7.83</td>\n",
       "      <td>26.03</td>\n",
       "      <td>1.614507</td>\n",
       "      <td>-0.674539</td>\n",
       "      <td>333.50</td>\n",
       "      <td>206.110001</td>\n",
       "      <td>176500000</td>\n",
       "      <td>False</td>\n",
       "      <td>3</td>\n",
       "      <td>0.135135</td>\n",
       "      <td>1.293661</td>\n",
       "      <td>0.618477</td>\n",
       "      <td>0.270595</td>\n",
       "      <td>-2.107598</td>\n",
       "      <td>-3.677058</td>\n",
       "      <td>1.304468</td>\n",
       "      <td>0.140779</td>\n",
       "    </tr>\n",
       "    <tr>\n",
       "      <th>1986-01-10</th>\n",
       "      <td>7.44</td>\n",
       "      <td>7.89</td>\n",
       "      <td>25.65</td>\n",
       "      <td>1.111899</td>\n",
       "      <td>-0.242014</td>\n",
       "      <td>340.45</td>\n",
       "      <td>205.960007</td>\n",
       "      <td>122800000</td>\n",
       "      <td>False</td>\n",
       "      <td>4</td>\n",
       "      <td>0.404858</td>\n",
       "      <td>0.766284</td>\n",
       "      <td>-1.459854</td>\n",
       "      <td>2.083958</td>\n",
       "      <td>-30.424929</td>\n",
       "      <td>-0.674539</td>\n",
       "      <td>-3.677058</td>\n",
       "      <td>1.304468</td>\n",
       "    </tr>\n",
       "    <tr>\n",
       "      <th>1986-01-13</th>\n",
       "      <td>7.48</td>\n",
       "      <td>7.95</td>\n",
       "      <td>25.08</td>\n",
       "      <td>1.300182</td>\n",
       "      <td>0.507554</td>\n",
       "      <td>339.40</td>\n",
       "      <td>206.720001</td>\n",
       "      <td>108700000</td>\n",
       "      <td>False</td>\n",
       "      <td>0</td>\n",
       "      <td>0.537634</td>\n",
       "      <td>0.760456</td>\n",
       "      <td>-2.222222</td>\n",
       "      <td>-0.308415</td>\n",
       "      <td>-11.482085</td>\n",
       "      <td>-0.242014</td>\n",
       "      <td>-0.674539</td>\n",
       "      <td>-3.677058</td>\n",
       "    </tr>\n",
       "    <tr>\n",
       "      <th>1986-01-14</th>\n",
       "      <td>7.48</td>\n",
       "      <td>7.93</td>\n",
       "      <td>24.97</td>\n",
       "      <td>1.020525</td>\n",
       "      <td>-0.096479</td>\n",
       "      <td>341.00</td>\n",
       "      <td>206.639999</td>\n",
       "      <td>113900000</td>\n",
       "      <td>False</td>\n",
       "      <td>1</td>\n",
       "      <td>0.000000</td>\n",
       "      <td>-0.251572</td>\n",
       "      <td>-0.438596</td>\n",
       "      <td>0.471420</td>\n",
       "      <td>4.783809</td>\n",
       "      <td>0.507554</td>\n",
       "      <td>-0.242014</td>\n",
       "      <td>-0.674539</td>\n",
       "    </tr>\n",
       "  </tbody>\n",
       "</table>\n",
       "</div>"
      ],
      "text/plain": [
       "            TBill3M  TBill1Y    Oil        RV  Return_close    Gold  \\\n",
       "1986-01-08     7.40     7.73  25.87  1.211581     -3.677058  332.60   \n",
       "1986-01-09     7.41     7.83  26.03  1.614507     -0.674539  333.50   \n",
       "1986-01-10     7.44     7.89  25.65  1.111899     -0.242014  340.45   \n",
       "1986-01-13     7.48     7.95  25.08  1.300182      0.507554  339.40   \n",
       "1986-01-14     7.48     7.93  24.97  1.020525     -0.096479  341.00   \n",
       "\n",
       "              SP_close  SP_volume  Holiday  weekday  TBill3M_ret  TBill1Y_ret  \\\n",
       "1986-01-08  207.970001  180300000    False        2     1.928375     1.844532   \n",
       "1986-01-09  206.110001  176500000    False        3     0.135135     1.293661   \n",
       "1986-01-10  205.960007  122800000    False        4     0.404858     0.766284   \n",
       "1986-01-13  206.720001  108700000    False        0     0.537634     0.760456   \n",
       "1986-01-14  206.639999  113900000    False        1     0.000000    -0.251572   \n",
       "\n",
       "             Oil_ret  Gold_ret  SP_volume_ret  Return_close_lag1  \\\n",
       "1986-01-08  0.077369  0.787879      17.843137           1.304468   \n",
       "1986-01-09  0.618477  0.270595      -2.107598          -3.677058   \n",
       "1986-01-10 -1.459854  2.083958     -30.424929          -0.674539   \n",
       "1986-01-13 -2.222222 -0.308415     -11.482085          -0.242014   \n",
       "1986-01-14 -0.438596  0.471420       4.783809           0.507554   \n",
       "\n",
       "            Return_close_lag2  Return_close_lag3  \n",
       "1986-01-08           0.140779           0.659602  \n",
       "1986-01-09           1.304468           0.140779  \n",
       "1986-01-10          -3.677058           1.304468  \n",
       "1986-01-13          -0.674539          -3.677058  \n",
       "1986-01-14          -0.242014          -0.674539  "
      ]
     },
     "execution_count": 4,
     "metadata": {},
     "output_type": "execute_result"
    }
   ],
   "source": [
    "df.head()"
   ]
  },
  {
   "cell_type": "markdown",
   "id": "35d2f8ce-d54c-46c6-9520-6f0b7e750dc5",
   "metadata": {},
   "source": [
    "<div style=\"text-align:center; font-size:24px\">\n",
    "    <span style=\"color:red\">How do we setup a classification problem?</span>\n",
    "</div>\n",
    "\n",
    "\n",
    "<details>\n",
    "    <summary>Click to expand!</summary>\n",
    "    \n",
    "    Define the Target Variable: Decide what you want to classify. For example, you might want to predict whether the \"Return_close\" is positive or negative. This would turn the problem into a binary classification task.\n",
    "\n",
    "    Convert the Target Variable: Based on the definition, you'll need to transform the \"Return_close\" into a binary variable. You can set a threshold (e.g., 0) and classify the returns as:\n",
    "\n",
    "    - 1 if \"Return_close\" > 0 (Positive Return)\n",
    "    - 0 if \"Return_close\" <= 0 (Negative Return or No Gain)\n",
    "</details>\n"
   ]
  },
  {
   "cell_type": "code",
   "execution_count": 5,
   "id": "b7d54b99-6b87-493f-b31a-099029021ea7",
   "metadata": {
    "tags": []
   },
   "outputs": [],
   "source": [
    "df[\"Ret_binary\"] = (df[\"Return_close\"] > 0).astype(int)"
   ]
  },
  {
   "cell_type": "code",
   "execution_count": 6,
   "id": "accf9c44-994b-44b0-a5ca-ba3c1661212d",
   "metadata": {
    "tags": []
   },
   "outputs": [
    {
     "data": {
      "text/plain": [
       "array([0, 1])"
      ]
     },
     "execution_count": 6,
     "metadata": {},
     "output_type": "execute_result"
    }
   ],
   "source": [
    "df[\"Ret_binary\"].unique()"
   ]
  },
  {
   "cell_type": "code",
   "execution_count": 7,
   "id": "d1c17334-954f-4af4-bfa2-c421c279034c",
   "metadata": {
    "tags": []
   },
   "outputs": [
    {
     "data": {
      "text/plain": [
       "1    3027\n",
       "0    2681\n",
       "Name: Ret_binary, dtype: int64"
      ]
     },
     "execution_count": 7,
     "metadata": {},
     "output_type": "execute_result"
    }
   ],
   "source": [
    "df[\"Ret_binary\"].value_counts()"
   ]
  },
  {
   "cell_type": "markdown",
   "id": "4c381340-b5cc-4bd6-bebc-76159d0bffa3",
   "metadata": {},
   "source": [
    "## Logistic Regression for Binary Classification\n",
    "\n",
    "Logistic regression is a type of regression analysis used for binary classification problems, where the outcome variable (dependent variable) is binary, meaning it has only two possible values, often coded as 0 and 1. The output of logistic regression is quite different from linear regression, and its interpretation is distinct as well.\n",
    "\n",
    "### Output of Logistic Regression\n",
    "\n",
    "The output of logistic regression is a probability estimate that an observation belongs to the positive class (class 1). This probability is bounded between 0 and 1. Mathematically, logistic regression models the log-odds (logit) of the probability of the positive class. The logistic regression equation is typically expressed as:\n",
    "\n",
    "$$ \\text{Logit}(p) = \\log\\left(\\frac{p}{1-p}\\right) = \\beta_0 + \\beta_1x_1 + \\beta_2x_2 + \\ldots + \\beta_px_p $$\n",
    "\n",
    "- $p$ represents the probability of the positive class.\n",
    "- $\\beta_0, \\beta_1, \\beta_2, \\ldots, \\beta_p$ are the coefficients of the model.\n",
    "- $x_1, x_2, \\ldots, x_p$ are the input features.\n",
    "\n",
    "### Interpreting Logistic Regression\n",
    "\n",
    "1. **Coefficient Interpretation:** The coefficients ($\\beta$) in logistic regression represent the change in the log-odds of the probability of the positive class for a one-unit change in the corresponding predictor variable, while holding all other predictors constant. Unlike linear regression, where coefficients represent changes in the dependent variable, logistic regression coefficients are related to the log-odds of the outcome.\n",
    "\n",
    "2. **Probability Interpretation:** The probability estimate $p$ can be converted into class predictions. Commonly, a threshold of 0.5 is used; if $p > 0.5$, the observation is classified as the positive class, and if $p \\leq 0.5$, it's classified as the negative class.\n",
    "\n",
    "### Differences from Linear Regression\n",
    "\n",
    "1. **Output Type:** The most significant difference is the output type. Linear regression predicts a continuous outcome (e.g., house prices), while logistic regression predicts a probability for a binary outcome (e.g., whether a customer will buy a product or not).\n",
    "\n",
    "2. **Equation Form:** The equations differ fundamentally. Linear regression uses a linear equation to predict the continuous outcome, while logistic regression models the log-odds of the probability of the positive class using a logistic (S-shaped) curve.\n",
    "\n",
    "3. **Residuals:** In linear regression, the residuals (the differences between predicted and actual values) follow a normal distribution. In logistic regression, the residuals don't follow a normal distribution but rather follow a binomial distribution.\n",
    "\n",
    "4. **Assumptions:** Linear regression assumes linearity, constant variance, and normality of residuals. Logistic regression does not make these same assumptions because it models probabilities.\n",
    "\n",
    "Logistic regression is specifically designed for binary classification tasks, and its output is a probability estimate. The interpretation of coefficients in logistic regression is based on log-odds, making it well-suited for problems where you want to predict the probability of an event occurring or not occurring.\n",
    "\n",
    "\n",
    "### Model Derivation\n",
    "\n",
    "\n",
    "Generalized Linear Models (GLMs) are a broad class of models that allow for response variables to have error distribution models other than the normal distribution, which is assumed in traditional linear regression. GLMs consist of three components: a random component, a systematic component, and a link function. \n",
    "\n",
    "Logistic regression is a special case of GLMs. Here is how the components of GLMs are manifested in logistic regression:\n",
    "\n",
    "1. **Random Component**: In logistic regression, the random component is the distribution of the response variable, which follows a Bernoulli distribution since it is binary (0 or 1).\n",
    "\n",
    "2. **Systematic Component**: This is the linear combination of the predictors, similar to linear regression. It is represented as:\n",
    "   $$\n",
    "   \\eta = \\beta_0 + \\beta_1 x_1 + \\beta_2 x_2 + \\ldots + \\beta_n x_n\n",
    "   $$\n",
    "\n",
    "3. **Link Function**: The link function connects the random and systematic components. In logistic regression, the link function is the logistic function, which is defined as:\n",
    "   $$\n",
    "   g(\\mu) = \\ln\\left(\\frac{\\mu}{1-\\mu}\\right)\n",
    "   $$\n",
    "   where $ \\mu $ is the mean of the distribution. The logistic function transforms the linear combination of the predictors to lie between 0 and 1, making it suitable for estimating probabilities. The inverse of the link function, which gives us the logistic regression model, is:\n",
    "   $$\n",
    "   \\mu = \\frac{1}{1+e^{-\\eta}}\n",
    "   $$\n",
    "\n",
    "So, logistic regression can be seen as a GLM with a binomial distribution for the response variable and a logit link function. "
   ]
  },
  {
   "cell_type": "code",
   "execution_count": 8,
   "id": "cd1bbd28-a79e-4ad9-9dc5-87b25cef6df5",
   "metadata": {
    "tags": []
   },
   "outputs": [
    {
     "name": "stdout",
     "output_type": "stream",
     "text": [
      "Accuracy: 0.5546601261387526\n"
     ]
    }
   ],
   "source": [
    "# Select features\n",
    "features = [\"RV\"]\n",
    "\n",
    "X = df[features]\n",
    "y = df[\"Ret_binary\"]\n",
    "\n",
    "# Initialize Logistic Regression Model\n",
    "logistic_model = LogisticRegression()\n",
    "\n",
    "# Fit the model\n",
    "logistic_model.fit(X, y)\n",
    "\n",
    "# Predict on the test set\n",
    "y_pred = logistic_model.predict(X)\n",
    "\n",
    "# Evaluate the model\n",
    "accuracy = accuracy_score(y, y_pred)\n",
    "print(f\"Accuracy: {accuracy}\")"
   ]
  },
  {
   "cell_type": "markdown",
   "id": "9d7ea32c-fb63-4a9b-9833-82728ddb9170",
   "metadata": {},
   "source": [
    "**Inspecting the Parameters**\n",
    "\n",
    "One can access the estimated coefficients and the intercept of the logistic regression model using the coef_ and intercept_ attributes."
   ]
  },
  {
   "cell_type": "code",
   "execution_count": 9,
   "id": "9ea9e656-86b0-4321-a54c-34018c70cc90",
   "metadata": {
    "tags": []
   },
   "outputs": [
    {
     "name": "stdout",
     "output_type": "stream",
     "text": [
      "Coefficient for RV: [-0.42225698]\n",
      "Intercept: 0.603150593958673\n"
     ]
    }
   ],
   "source": [
    "# Coefficients\n",
    "coef = logistic_model.coef_[0]\n",
    "print(f\"Coefficient for RV: {coef}\")\n",
    "\n",
    "# Intercept\n",
    "intercept = logistic_model.intercept_[0]\n",
    "print(f\"Intercept: {intercept}\")"
   ]
  },
  {
   "cell_type": "markdown",
   "id": "98634657-0ade-43fa-ae01-c95fbef6c8c8",
   "metadata": {},
   "source": [
    "**Checking for Statistical Significance**\n",
    "\n",
    "To check the statistical significance of the coefficients, you can perform a hypothesis test. This usually involves a **Wald test** in the context of logistic regression. \n",
    "\n",
    "**Null Hypothesis (H0):** $\\beta_1 = 0$\n",
    "\n",
    "**Alternative Hypothesis (H1):** $\\beta_1 \\neq 0$\n",
    "\n",
    "\n",
    "$$ \\text{Wald Statistic} = \\frac{(\\hat{\\beta}_1 - 0)^2}{\\text{Var}(\\hat{\\beta}_1)} $$\n",
    "\n",
    "The Wald test is already used with linear regression estimations, as we have seen in the previous lecture. However, in logistic regression, the estimated coefficients $ \\hat{\\beta}_1$ are related to the log-odds of the dependent variable, and the variance calculation involves the complex structure of the logistic model. The test statistic follows a chi-squared distribution with 1 degree of freedom.\n",
    "\n",
    "\n",
    "You can use the statsmodels library to fit the logistic regression model and obtain the p-values."
   ]
  },
  {
   "cell_type": "code",
   "execution_count": 10,
   "id": "8b759d7f-e1ea-4c31-b358-7008e467193d",
   "metadata": {
    "tags": []
   },
   "outputs": [
    {
     "name": "stdout",
     "output_type": "stream",
     "text": [
      "Optimization terminated successfully.\n",
      "         Current function value: 0.684270\n",
      "         Iterations 4\n"
     ]
    },
    {
     "data": {
      "text/html": [
       "<table class=\"simpletable\">\n",
       "<caption>Logit Regression Results</caption>\n",
       "<tr>\n",
       "  <th>Dep. Variable:</th>      <td>Ret_binary</td>    <th>  No. Observations:  </th>  <td>  5708</td>  \n",
       "</tr>\n",
       "<tr>\n",
       "  <th>Model:</th>                 <td>Logit</td>      <th>  Df Residuals:      </th>  <td>  5706</td>  \n",
       "</tr>\n",
       "<tr>\n",
       "  <th>Method:</th>                 <td>MLE</td>       <th>  Df Model:          </th>  <td>     1</td>  \n",
       "</tr>\n",
       "<tr>\n",
       "  <th>Date:</th>            <td>Mon, 18 Sep 2023</td> <th>  Pseudo R-squ.:     </th>  <td>0.01018</td> \n",
       "</tr>\n",
       "<tr>\n",
       "  <th>Time:</th>                <td>11:39:02</td>     <th>  Log-Likelihood:    </th> <td> -3905.8</td> \n",
       "</tr>\n",
       "<tr>\n",
       "  <th>converged:</th>             <td>True</td>       <th>  LL-Null:           </th> <td> -3946.0</td> \n",
       "</tr>\n",
       "<tr>\n",
       "  <th>Covariance Type:</th>     <td>nonrobust</td>    <th>  LLR p-value:       </th> <td>3.119e-19</td>\n",
       "</tr>\n",
       "</table>\n",
       "<table class=\"simpletable\">\n",
       "<tr>\n",
       "    <td></td>       <th>coef</th>     <th>std err</th>      <th>z</th>      <th>P>|z|</th>  <th>[0.025</th>    <th>0.975]</th>  \n",
       "</tr>\n",
       "<tr>\n",
       "  <th>const</th> <td>    0.6043</td> <td>    0.061</td> <td>    9.901</td> <td> 0.000</td> <td>    0.485</td> <td>    0.724</td>\n",
       "</tr>\n",
       "<tr>\n",
       "  <th>RV</th>    <td>   -0.4232</td> <td>    0.048</td> <td>   -8.756</td> <td> 0.000</td> <td>   -0.518</td> <td>   -0.328</td>\n",
       "</tr>\n",
       "</table>"
      ],
      "text/latex": [
       "\\begin{center}\n",
       "\\begin{tabular}{lclc}\n",
       "\\toprule\n",
       "\\textbf{Dep. Variable:}   &   Ret\\_binary    & \\textbf{  No. Observations:  } &     5708    \\\\\n",
       "\\textbf{Model:}           &      Logit       & \\textbf{  Df Residuals:      } &     5706    \\\\\n",
       "\\textbf{Method:}          &       MLE        & \\textbf{  Df Model:          } &        1    \\\\\n",
       "\\textbf{Date:}            & Mon, 18 Sep 2023 & \\textbf{  Pseudo R-squ.:     } &  0.01018    \\\\\n",
       "\\textbf{Time:}            &     11:39:02     & \\textbf{  Log-Likelihood:    } &   -3905.8   \\\\\n",
       "\\textbf{converged:}       &       True       & \\textbf{  LL-Null:           } &   -3946.0   \\\\\n",
       "\\textbf{Covariance Type:} &    nonrobust     & \\textbf{  LLR p-value:       } & 3.119e-19   \\\\\n",
       "\\bottomrule\n",
       "\\end{tabular}\n",
       "\\begin{tabular}{lcccccc}\n",
       "               & \\textbf{coef} & \\textbf{std err} & \\textbf{z} & \\textbf{P$> |$z$|$} & \\textbf{[0.025} & \\textbf{0.975]}  \\\\\n",
       "\\midrule\n",
       "\\textbf{const} &       0.6043  &        0.061     &     9.901  &         0.000        &        0.485    &        0.724     \\\\\n",
       "\\textbf{RV}    &      -0.4232  &        0.048     &    -8.756  &         0.000        &       -0.518    &       -0.328     \\\\\n",
       "\\bottomrule\n",
       "\\end{tabular}\n",
       "%\\caption{Logit Regression Results}\n",
       "\\end{center}"
      ],
      "text/plain": [
       "<class 'statsmodels.iolib.summary.Summary'>\n",
       "\"\"\"\n",
       "                           Logit Regression Results                           \n",
       "==============================================================================\n",
       "Dep. Variable:             Ret_binary   No. Observations:                 5708\n",
       "Model:                          Logit   Df Residuals:                     5706\n",
       "Method:                           MLE   Df Model:                            1\n",
       "Date:                Mon, 18 Sep 2023   Pseudo R-squ.:                 0.01018\n",
       "Time:                        11:39:02   Log-Likelihood:                -3905.8\n",
       "converged:                       True   LL-Null:                       -3946.0\n",
       "Covariance Type:            nonrobust   LLR p-value:                 3.119e-19\n",
       "==============================================================================\n",
       "                 coef    std err          z      P>|z|      [0.025      0.975]\n",
       "------------------------------------------------------------------------------\n",
       "const          0.6043      0.061      9.901      0.000       0.485       0.724\n",
       "RV            -0.4232      0.048     -8.756      0.000      -0.518      -0.328\n",
       "==============================================================================\n",
       "\"\"\""
      ]
     },
     "execution_count": 10,
     "metadata": {},
     "output_type": "execute_result"
    }
   ],
   "source": [
    "# Add a constant to the features (for the intercept)\n",
    "X_sm = sm.add_constant(X)\n",
    "\n",
    "# Fit logistic regression model\n",
    "logit_model = sm.Logit(y, X_sm)\n",
    "result = logit_model.fit()\n",
    "\n",
    "# Summary of the regression, including p-values\n",
    "result.summary()"
   ]
  },
  {
   "cell_type": "markdown",
   "id": "2476e477-eb5a-43b8-9e67-1847a9164e31",
   "metadata": {},
   "source": [
    "<div style=\"text-align:center; font-size:24px\">\n",
    "    <span style=\"color:red\">How should you choose between statsmodels and scikit-learn?</span>\n",
    "</div>\n",
    "\n",
    "\n",
    "Evaluate the performance of a model through Accuracy, Precision, Recall and F1 Score metrics and provides a brief explanation of the Confusion Matrix. \n",
    "Once you have built your model, the most important question that arises is how good is your model? So, evaluating your model is the most important task in the data science work which delineates how good your predictions are.\n",
    "\n",
    "Remind the fllowing concepts:\n",
    "\n",
    "- True Positives (TP) - These are the correctly predicted positive values which means that the value of actual class is 1 and the value of predicted class is also 1.\n",
    "\n",
    "- True Negatives (TN) - These are the correctly predicted negative values which means that the value of actual class is not 1 and value of predicted class is also not 1. \n",
    "\n",
    "False positives and false negatives, these values occur when your actual class contradicts with the predicted class.\n",
    "\n",
    "- False Positives (FP) – When actual class is not 1 and predicted class is 1. \n",
    "\n",
    "- False Negatives (FN) – When actual class is 1 but predicted class in not 1. \n",
    "\n",
    "Once you understand these four concepts then we can calculate Accuracy, Precision, Recall and F1 score.\n",
    "\n",
    "- Accuracy - Accuracy is the most intuitive performance measure and it is simply a ratio of correctly predicted observation to the total observations. One may think that, if we have high accuracy then our model is best. Yes, accuracy is a great measure but only when you have symmetric datasets where values of false positive and false negatives are almost same. Therefore, you have to look at other parameters to evaluate the performance of your model.\n",
    "\n",
    "$$Accuracy = \\frac{TP+TN}{TP+FP+FN+TN}$$\n",
    "\n",
    "- Precision - Precision is the ratio of correctly predicted positive observations to the total predicted positive observations. The question that this metric answer is of all of the observation labelled as 1, how many actually are  1? High precision relates to the low false positive rate. \n",
    "\n",
    "$$Precision = \\frac{TP}{TP+FP}$$\n",
    "\n",
    "- Recall (Sensitivity) - Recall is the ratio of correctly predicted positive observations to the all observations in actual class - yes. The question recall answers is: Of all the observation that belongs to class 1, how many did we predicted correctly?\n",
    "\n",
    "$$Recall = \\frac{TP}{TP+FN}$$\n",
    "\n",
    "- F1 score - F1 Score is the weighted average of Precision and Recall. Therefore, this score takes both false positives and false negatives into account. Intuitively it is not as easy to understand as accuracy, but F1 is usually more useful than accuracy, especially if you have an uneven class distribution as in our case. Accuracy works best if false positives and false negatives have similar cost. If the cost of false positives and false negatives are very different, it’s better to look at both Precision and Recall.\n",
    "\n",
    "$$F1 Score = \\frac{2*(Recall * Precision)}{(Recall + Precision)}$$\n",
    "\n",
    "So, whenever you build a model, these concepts should help you to figure out how good your model has performed."
   ]
  },
  {
   "cell_type": "code",
   "execution_count": 11,
   "id": "0cc2e9ae-2c94-48d1-baa8-22722ac0bdde",
   "metadata": {
    "tags": []
   },
   "outputs": [
    {
     "name": "stdout",
     "output_type": "stream",
     "text": [
      "Accuracy: 0.5635949544498949\n"
     ]
    }
   ],
   "source": [
    "# Select features\n",
    "features = [\"RV\", \"TBill1Y_ret\", \"TBill3M_ret\"]\n",
    "\n",
    "X = df[features]\n",
    "y = df[\"Ret_binary\"]\n",
    "\n",
    "# Initialize Logistic Regression Model\n",
    "logistic_model = LogisticRegression()\n",
    "\n",
    "# Fit the model\n",
    "logistic_model.fit(X, y)\n",
    "\n",
    "# Predict on the test set\n",
    "y_pred = logistic_model.predict(X)\n",
    "\n",
    "# Evaluate the model\n",
    "accuracy = accuracy_score(y, y_pred)\n",
    "print(f\"Accuracy: {accuracy}\")"
   ]
  },
  {
   "cell_type": "code",
   "execution_count": 12,
   "id": "83955bce-ee2f-4fab-ae1c-163a348c90af",
   "metadata": {
    "tags": []
   },
   "outputs": [
    {
     "name": "stdout",
     "output_type": "stream",
     "text": [
      "Classification Report:\n",
      "              precision    recall  f1-score   support\n",
      "\n",
      "           0       0.57      0.27      0.37      2681\n",
      "           1       0.56      0.82      0.67      3027\n",
      "\n",
      "    accuracy                           0.56      5708\n",
      "   macro avg       0.57      0.55      0.52      5708\n",
      "weighted avg       0.57      0.56      0.53      5708\n",
      "\n",
      "ROC-AUC Score: 0.5702498229597677\n"
     ]
    },
    {
     "data": {
      "image/png": "[encoded data removed]",
      "text/plain": [
       "<Figure size 640x480 with 1 Axes>"
      ]
     },
     "metadata": {},
     "output_type": "display_data"
    }
   ],
   "source": [
    "# Predict probabilities and select those for the positive class (y = 1) for each observation in the test set. It is used later for the ROC-AUC calculation.\n",
    "y_probs = logistic_model.predict_proba(X)[:, 1]\n",
    "\n",
    "# Print a report summarizing the precision, recall, and F1-score for each class. It provides a quick overview of how well the model is performing for each class.\n",
    "print(\"Classification Report:\")\n",
    "print(classification_report(y, y_pred))\n",
    "\n",
    "# This computes the Area Under the Receiver Operating Characteristic Curve (ROC-AUC). A value closer to 1 indicates better classification performance.\n",
    "roc_auc = roc_auc_score(y, y_probs)\n",
    "print(f\"ROC-AUC Score: {roc_auc}\")\n",
    "\n",
    "# This calculates the False Positive Rate (FPR) and True Positive Rate (TPR) for various threshold values, which are used to plot the ROC curve.\n",
    "fpr, tpr, _ = roc_curve(y, y_probs)\n",
    "\n",
    "# Plot ROC curve\n",
    "plt.figure()\n",
    "plt.plot(fpr, tpr, label=f\"ROC curve (area = {roc_auc})\")\n",
    "plt.plot([0, 1], [0, 1], \"k--\")\n",
    "plt.xlim([0.0, 1.0])\n",
    "plt.ylim([0.0, 1.05])\n",
    "plt.xlabel(\"False Positive Rate\")\n",
    "plt.ylabel(\"True Positive Rate\")\n",
    "plt.title(\"Receiver Operating Characteristic\")\n",
    "plt.legend(loc=\"lower right\")\n",
    "plt.show()"
   ]
  },
  {
   "cell_type": "code",
   "execution_count": 13,
   "id": "39417886-7139-4893-a29b-3c17df1d23b7",
   "metadata": {
    "tags": []
   },
   "outputs": [],
   "source": [
    "# Function to fit a logistic regression model and plot the ROC\n",
    "def plot_roc(model, X, y, label, ax):\n",
    "    model.fit(X, y)\n",
    "    y_probs = model.predict_proba(X)[:, 1]\n",
    "    fpr, tpr, _ = roc_curve(y, y_probs)\n",
    "    roc_auc = roc_auc_score(y, y_probs)\n",
    "    ax.plot(fpr, tpr, label=f\"{label} (AUC = {roc_auc:.2f})\")"
   ]
  },
  {
   "cell_type": "code",
   "execution_count": 14,
   "id": "a706c243-c5bc-4ec2-8ae4-9a51cb44fe9d",
   "metadata": {
    "tags": []
   },
   "outputs": [
    {
     "data": {
      "text/plain": [
       "Index(['TBill3M', 'TBill1Y', 'Oil', 'RV', 'Return_close', 'Gold', 'SP_close',\n",
       "       'SP_volume', 'Holiday', 'weekday', 'TBill3M_ret', 'TBill1Y_ret',\n",
       "       'Oil_ret', 'Gold_ret', 'SP_volume_ret', 'Return_close_lag1',\n",
       "       'Return_close_lag2', 'Return_close_lag3', 'Ret_binary'],\n",
       "      dtype='object')"
      ]
     },
     "execution_count": 14,
     "metadata": {},
     "output_type": "execute_result"
    }
   ],
   "source": [
    "df.columns"
   ]
  },
  {
   "cell_type": "code",
   "execution_count": 15,
   "id": "0a99c07c-aadf-4a55-b6d9-ed47686b0c98",
   "metadata": {
    "tags": []
   },
   "outputs": [
    {
     "data": {
      "text/plain": [
       "<matplotlib.legend.Legend at 0x288e6b241f0>"
      ]
     },
     "execution_count": 15,
     "metadata": {},
     "output_type": "execute_result"
    },
    {
     "data": {
      "image/png": "[encoded data removed]",
      "text/plain": [
       "<Figure size 640x480 with 1 Axes>"
      ]
     },
     "metadata": {},
     "output_type": "display_data"
    }
   ],
   "source": [
    "fig, ax = plt.subplots()\n",
    "\n",
    "features = [\"RV\"]\n",
    "X = df[features]\n",
    "y = df[\"Ret_binary\"]\n",
    "model1 = LogisticRegression()\n",
    "plot_roc(model1, X,y, \"LR1\", ax)\n",
    "\n",
    "features = [\"RV\", \"TBill1Y_ret\"]\n",
    "X = df[features]\n",
    "y = df[\"Ret_binary\"]\n",
    "model2 = LogisticRegression(penalty=\"l2\", solver=\"liblinear\")\n",
    "plot_roc(model2,  X,y, \"LR2\", ax)\n",
    "\n",
    "features = [\"RV\", \"TBill1Y_ret\", \"TBill3M_ret\"]\n",
    "X = df[features]\n",
    "y = df[\"Ret_binary\"]\n",
    "model3 = LogisticRegression()\n",
    "plot_roc(model3, X,y, \"LR3\", ax)\n",
    "\n",
    "features = [\n",
    "    \"TBill3M\",\n",
    "    \"TBill1Y\",\n",
    "    \"Oil\",\n",
    "    \"RV\",\n",
    "    \"Gold\",\n",
    "    \"SP_close\",\n",
    "    \"SP_volume\",\n",
    "    \"Holiday\",\n",
    "    \"weekday\",\n",
    "    \"TBill3M_ret\",\n",
    "    \"TBill1Y_ret\",\n",
    "    \"Oil_ret\",\n",
    "    \"Gold_ret\",\n",
    "    \"SP_volume_ret\",\n",
    "    \"Return_close_lag1\",\n",
    "    \"Return_close_lag2\",\n",
    "    \"Return_close_lag3\",\n",
    "]\n",
    "X = df[features]\n",
    "y = df[\"Ret_binary\"]\n",
    "model4 = LogisticRegression()\n",
    "plot_roc(model4,  X,y, \"LR4\", ax)\n",
    "\n",
    "\n",
    "# Add random classifier line and labels\n",
    "ax.plot([0, 1], [0, 1], \"k--\")\n",
    "ax.set_xlim([0.0, 1.0])\n",
    "ax.set_ylim([0.0, 1.05])\n",
    "ax.set_xlabel(\"False Positive Rate\")\n",
    "ax.set_ylabel(\"True Positive Rate\")\n",
    "ax.set_title(\"Receiver Operating Characteristic\")\n",
    "ax.legend(loc=\"lower right\")"
   ]
  },
  {
   "cell_type": "markdown",
   "id": "cc6c3396-37bd-42a7-b173-97891c92924c",
   "metadata": {},
   "source": [
    "## Evaluation of Classification Models"
   ]
  },
  {
   "cell_type": "markdown",
   "id": "f2cf18b9-d057-462e-97a8-6827203df524",
   "metadata": {},
   "source": [
    "**CONFUSION MATRIX**: true values are displayed by column, while predicted value are displayed by row. The entry [0.0] represent the number of true output in class 1 that the model predict correctly."
   ]
  },
  {
   "cell_type": "code",
   "execution_count": 16,
   "id": "aa5bcb31-c2a3-422d-b3fe-2420bf956e10",
   "metadata": {
    "tags": []
   },
   "outputs": [],
   "source": [
    "# Select features\n",
    "features = [\"RV\", \"TBill1Y_ret\", \"TBill3M_ret\"]\n",
    "X = df[features]\n",
    "y = df[\"Ret_binary\"]\n",
    "logistic_model = LogisticRegression()\n",
    "logistic_model.fit(X, y)\n",
    "y_pred = logistic_model.predict(X)"
   ]
  },
  {
   "cell_type": "code",
   "execution_count": 17,
   "id": "0c6c7093-8e35-4512-9c79-311cc81e7081",
   "metadata": {
    "collapsed": false,
    "jupyter": {
     "outputs_hidden": false
    },
    "tags": []
   },
   "outputs": [
    {
     "name": "stdout",
     "output_type": "stream",
     "text": [
      "[[ 733 1948]\n",
      " [ 543 2484]]\n"
     ]
    }
   ],
   "source": [
    "print(confusion_matrix(y, y_pred))"
   ]
  },
  {
   "cell_type": "code",
   "execution_count": 18,
   "id": "812ff166-d6e1-427c-afff-ea5017711011",
   "metadata": {
    "tags": []
   },
   "outputs": [
    {
     "data": {
      "text/plain": [
       "5708"
      ]
     },
     "execution_count": 18,
     "metadata": {},
     "output_type": "execute_result"
    }
   ],
   "source": [
    "confusion_matrix(y, y_pred).sum()"
   ]
  },
  {
   "cell_type": "code",
   "execution_count": 19,
   "id": "88b8ad88-9762-4f2f-b09f-8d337a769003",
   "metadata": {
    "tags": []
   },
   "outputs": [
    {
     "data": {
      "text/plain": [
       "5708"
      ]
     },
     "execution_count": 19,
     "metadata": {},
     "output_type": "execute_result"
    }
   ],
   "source": [
    "len(y)"
   ]
  },
  {
   "cell_type": "code",
   "execution_count": 20,
   "id": "74033f17-7b74-45cf-befb-b3eeee545c15",
   "metadata": {
    "collapsed": false,
    "jupyter": {
     "outputs_hidden": false
    },
    "tags": []
   },
   "outputs": [
    {
     "name": "stdout",
     "output_type": "stream",
     "text": [
      "              precision    recall  f1-score   support\n",
      "\n",
      "           0       0.57      0.27      0.37      2681\n",
      "           1       0.56      0.82      0.67      3027\n",
      "\n",
      "    accuracy                           0.56      5708\n",
      "   macro avg       0.57      0.55      0.52      5708\n",
      "weighted avg       0.57      0.56      0.53      5708\n",
      "\n"
     ]
    }
   ],
   "source": [
    "print(classification_report(y, y_pred))"
   ]
  },
  {
   "cell_type": "markdown",
   "id": "c7eeba09-86ad-40de-96d9-a8aaff60249a",
   "metadata": {},
   "source": [
    "# Logistic Regression for Multiclass Classification\n",
    "\n",
    "Multiclass classification and binary classification are two distinct tasks in supervised learning, and logistic regression can be adapted to handle both. Here's a comparison and description of performing multiclass classification vs. binary classification using logistic regression:\n",
    "\n",
    "**Binary Classification**\n",
    "In binary classification, there are only two possible outcomes or classes. Logistic regression models the probability that the target variable belongs to a particular category. It uses the logistic function to squeeze the output of a linear equation between 0 and 1. The class label prediction is then made based on whether the probability is above or below a certain threshold (usually 0.5).\n",
    "\n",
    "**Multiclass Classification**\n",
    "Multiclass classification extends the concept of binary classification to more than two classes. In the context of logistic regression, this can be done in several ways:\n",
    "\n",
    "- *One-vs-All (OvA) or One-vs-Rest (OvR)*: In this approach, separate binary logistic regression models are trained for each class against all other classes. If there are $k$ classes, $k$ different binary logistic regression models are trained. Predictions are made by evaluating all $k$ models and choosing the class for which the corresponding model gives the highest probability.\n",
    "\n",
    "- *Softmax Regression (Multinomial Logistic Regression)*: Softmax regression generalizes logistic regression to multiple classes. Instead of modeling just one binary response, the softmax function is used to model the multinomial probability distribution over the classes. The output is a probability for each class, and the predicted class label is the one with the highest probability.\n",
    "\n",
    "\n",
    "**Binary Classification**: Simpler and suitable when there are only two classes to distinguish between.\n",
    "\n",
    "**Multiclass Classification**: More complex, as it deals with multiple classes. Requires special handling through techniques like OvA/OvR or softmax regression.\n",
    "\n",
    "*Interpretability*: While binary logistic regression provides direct insights into the effect of each feature on the odds of belonging to one class, multiclass logistic regression, especially when using the softmax function, may be less straightforward to interpret. In multiclass classification, evaluation metrics such as accuracy, confusion matrix, and multiclass ROC-AUC become more complex, as they must account for multiple classes.\n",
    "\n",
    "\n",
    "Here is what we are going to do now:\n",
    "- Analyze the Distribution: First, you'll want to understand the distribution of the Return_close variable. You can use descriptive statistics or visualization methods to get an overview of the data.\n",
    "\n",
    "- Choose the Bin Edges: Based on your analysis, you can decide how to segment the data. For example, you might want to have three classes: \"Negative Return\", \"No Gain\", and \"Positive Return\". You'll need to define the edges of the bins that separate these classes.\n",
    "\n",
    "- Apply `pd.cut` with Custom Bin Edges to transform the continuous `Return_close` variable into categorical classes."
   ]
  },
  {
   "cell_type": "code",
   "execution_count": 21,
   "id": "a04851b0-37c2-4514-af95-7fc17dfb78b1",
   "metadata": {
    "tags": []
   },
   "outputs": [
    {
     "data": {
      "text/plain": [
       "count    5708.000000\n",
       "mean        0.020874\n",
       "std         1.287844\n",
       "min       -33.700382\n",
       "10%        -1.209989\n",
       "25%        -0.497957\n",
       "50%         0.061891\n",
       "75%         0.591760\n",
       "90%         1.203596\n",
       "max        17.749296\n",
       "Name: Return_close, dtype: float64"
      ]
     },
     "execution_count": 21,
     "metadata": {},
     "output_type": "execute_result"
    }
   ],
   "source": [
    "df[\"Return_close\"].describe(percentiles=[0.1, 0.25, 0.75, 0.9])"
   ]
  },
  {
   "cell_type": "code",
   "execution_count": 22,
   "id": "7aea5437-71c9-4608-a7c8-6391729c1ebf",
   "metadata": {
    "tags": []
   },
   "outputs": [
    {
     "name": "stdout",
     "output_type": "stream",
     "text": [
      "Accuracy: 0.5073580939032937\n",
      "Classification Report:\n",
      "                 precision    recall  f1-score   support\n",
      "\n",
      "Negative Return       0.48      0.32      0.38      1424\n",
      "        No Gain       0.52      0.90      0.66      2644\n",
      "Positive Return       0.33      0.04      0.08      1640\n",
      "\n",
      "       accuracy                           0.51      5708\n",
      "      macro avg       0.45      0.42      0.37      5708\n",
      "   weighted avg       0.46      0.51      0.42      5708\n",
      "\n"
     ]
    }
   ],
   "source": [
    "# Transform 'Return_close' into a multiclass target variable\n",
    "# Example: Negative Return, No Gain, Positive Return\n",
    "df[\"Multiclass_Target\"] = pd.cut(\n",
    "    df[\"Return_close\"],\n",
    "    bins=[-float(\"inf\"), -0.5, 0.5, float(\"inf\")],\n",
    "    labels=[\"Negative Return\", \"No Gain\", \"Positive Return\"],\n",
    ")\n",
    "\n",
    "\n",
    "features = [\"RV\", \"TBill1Y_ret\"]\n",
    "X = df[features]\n",
    "y = df[\"Multiclass_Target\"]\n",
    "\n",
    "\n",
    "logistic_model = LogisticRegression(max_iter=1000, multi_class=\"auto\")\n",
    "logistic_model.fit(X, y)\n",
    "y_pred = logistic_model.predict(X)\n",
    "\n",
    "accuracy = accuracy_score(y, y_pred)\n",
    "print(f\"Accuracy: {accuracy}\")\n",
    "\n",
    "print(\"Classification Report:\")\n",
    "print(classification_report(y, y_pred))"
   ]
  },
  {
   "cell_type": "code",
   "execution_count": 23,
   "id": "98f221da-3f19-4610-9b80-d39748095cf4",
   "metadata": {
    "tags": []
   },
   "outputs": [
    {
     "data": {
      "text/plain": [
       "No Gain            2644\n",
       "Positive Return    1640\n",
       "Negative Return    1424\n",
       "Name: Multiclass_Target, dtype: int64"
      ]
     },
     "execution_count": 23,
     "metadata": {},
     "output_type": "execute_result"
    }
   ],
   "source": [
    "df[\"Multiclass_Target\"].value_counts()"
   ]
  },
  {
   "cell_type": "markdown",
   "id": "b0158e87-3753-4852-aca7-00b999e5ffcd",
   "metadata": {},
   "source": [
    "<div style=\"text-align:center; font-size:24px\">\n",
    "    <span style=\"color:red\">How do we know if we are using One-vs-Rest (OvR) or Softmax Regression?</span>\n",
    "</div>\n"
   ]
  },
  {
   "cell_type": "markdown",
   "id": "836d1fda-4fcb-498c-ab4e-f76a88601dbc",
   "metadata": {},
   "source": [
    "# Linear Discriminant Analysis (LDA)\n",
    "\n",
    "Linear Discriminant Analysis (LDA) is a statistical technique used in pattern recognition and machine learning for finding the linear combination of features that best separates two or more classes.\n",
    "\n",
    "**Assumptions**\n",
    "\n",
    "- Normality: LDA assumes that the predictor variables are normally distributed within each class.\n",
    "- Homogeneity of Variance-Covariance: The covariance matrices of the predictor variables are assumed to be equal across all classes.\n",
    "- Linearity: The relationships between predictors and group means are assumed to be linear.\n",
    "- Independence: Observations are assumed to be independent of each other.\n",
    "\n",
    "**Scope**\n",
    "- Dimensionality Reduction: LDA can be used to reduce the number of dimensions while retaining information that discriminates between classes.\n",
    "- Classification: It can also be used directly as a classifier, providing a probabilistic framework to assign observations to classes.\n",
    "- Simplicity and Efficiency: LDA is computationally efficient and often provides robust performance even when the normality assumption is somewhat violated.\n",
    "\n",
    "\n",
    "\n",
    "### Differences in Binary Classification\n",
    "\n",
    "1. **Model Formulation**:\n",
    "   - **Logistic Regression**: Estimates the probability of a particular class through the logistic function. The decision boundary is determined based on log-odds.\n",
    "   - **LDA**: Maximizes the distance between the means of two classes while minimizing the spread within each class. It essentially looks for a linear combination of features that best separates classes.\n",
    "\n",
    "2. **Assumptions**:\n",
    "   - **Logistic Regression**: Does not assume any specific distribution for the predictor variables.\n",
    "   - **LDA**: Assumes that the predictors are normally distributed, and that the classes have the same covariance matrix.\n",
    "\n",
    "3. **Probabilistic Interpretation**:\n",
    "   - **Logistic Regression**: Provides a direct probabilistic interpretation (class membership probability).\n",
    "   - **LDA**: The probabilities can also be obtained, but they are derived from assuming multivariate normal distributions.\n",
    "\n",
    "### Differences in Multiclass Classification\n",
    "\n",
    "1. **Model Extension**:\n",
    "   - **Logistic Regression**: Can be extended to multiclass classification using techniques like One-vs-All (OvA) or Softmax Regression.\n",
    "   - **LDA**: Naturally handles multiclass classification by extending the idea of maximizing between-class variance and minimizing within-class variance to multiple classes.\n",
    "\n",
    "2. **Decision Boundaries**:\n",
    "   - **Logistic Regression**: The decision boundaries are still determined by the log-odds, but additional techniques (like OvA) may change the overall structure.\n",
    "   - **LDA**: Finds the combination of features that best separate all classes, leading to linear decision boundaries between every pair of classes.\n",
    "\n",
    "### LDA for Regression?\n",
    "\n",
    "LDA is generally used for classification purposes and not for regression. Its aim is to find the linear combination of features that best separates two or more predefined classes, not to predict a continuous output. Some of the assumptions and the mathematical formulation of LDA make it ill-suited for regression tasks.\n",
    "\n",
    "In contrast, linear regression techniques would be appropriate for predicting a continuous outcome. While both LDA and linear regression models involve linear combinations of predictors, their objectives and interpretations are fundamentally different: LDA is for classification and aims to separate classes, whereas linear regression is for predicting a continuous outcome.\n"
   ]
  },
  {
   "cell_type": "code",
   "execution_count": null,
   "id": "236cee82-2a73-429c-bf98-821762a753db",
   "metadata": {},
   "outputs": [],
   "source": [
    "# Select features\n",
    "features = [\"RV\"]\n",
    "\n",
    "X = df[features]\n",
    "y = df[\"Ret_binary\"]\n",
    "# Initialize LDA Model\n",
    "lda_model = LinearDiscriminantAnalysis()\n",
    "\n",
    "# Fit the model\n",
    "lda_model.fit(X, y)\n",
    "\n",
    "# Predict on the test set\n",
    "y_pred_lda = lda_model.predict(X)\n",
    "\n",
    "# Evaluate the model\n",
    "accuracy_lda = accuracy_score(y, y_pred_lda)\n",
    "print(f\"Accuracy with LDA: {accuracy_lda}\")"
   ]
  },
  {
   "cell_type": "markdown",
   "id": "bda3a50b-f915-43db-909a-3905a351552a",
   "metadata": {},
   "source": [
    "# Support Vector Machines (SVM)\n",
    "\n",
    "\n",
    "### LDA and SVM: A Comparison\n",
    "\n",
    "**Linear Discriminant Analysis (LDA)** and **Support Vector Machines (SVM)** are both supervised learning techniques used for classification, and they may seem similar in some respects, especially when using linear SVM. Here's an analysis of their similarities and differences:\n",
    "\n",
    "1. **Objective**:\n",
    "   - **LDA**: Aims to find the combination of features that best separates two or more classes. It focuses on maximizing the distance between the means of different classes while minimizing the spread within each class.\n",
    "   - **SVM**: Works by finding the hyperplane that best separates the classes by maximizing the margin between the closest points (support vectors) of different classes.\n",
    "\n",
    "2. **Decision Boundary**:\n",
    "   - Both LDA and linear SVM can result in linear decision boundaries.\n",
    "   - While LDA seeks to maximize the separation between classes, SVM focuses on maximizing the margin between support vectors.\n",
    "\n",
    "3. **Assumptions**:\n",
    "   - **LDA**: Assumes normally distributed predictors and equal covariance matrices among classes.\n",
    "   - **SVM**: Does not make any specific distributional assumptions.\n",
    "\n",
    "### Support Vector Machine (SVM)\n",
    "\n",
    "**SVM** is a powerful classification technique that finds the best hyperplane dividing different classes in a multi-dimensional space. Key concepts include:\n",
    "\n",
    "1. **Maximizing Margin**: SVM finds the hyperplane that maximizes the margin between the closest points (support vectors) of different classes.\n",
    "\n",
    "2. **Linear vs. Non-linear**: Linear SVM uses a linear function to separate classes. Non-linear SVM can model more complex relationships through the kernel trick.\n",
    "\n",
    "3. **Kernel Trick**: Allows SVM to operate in a higher-dimensional feature space without explicitly transforming the input data. It lets the algorithm work directly with the similarity between data points (via a kernel function), making it more flexible and able to handle non-linear relationships.\n",
    "\n",
    "### Kernel Trick Benefits\n",
    "\n",
    "1. **Complex Boundaries**: Allows modeling of non-linear decision boundaries.\n",
    "2. **Computational Efficiency**: Works with similarity computations rather than explicit transformations, saving computational resources.\n",
    "3. **Flexibility**: Various kernel functions (e.g., linear, polynomial, RBF) provide flexibility in modeling different patterns.\n",
    "\n"
   ]
  },
  {
   "cell_type": "code",
   "execution_count": null,
   "id": "9dfbdb32-a68f-4cb7-9633-f8d7207be787",
   "metadata": {},
   "outputs": [],
   "source": [
    "# Select features\n",
    "features = [\"RV\"]\n",
    "\n",
    "# Splitting the data\n",
    "X = df[features]\n",
    "y = df[\"Ret_binary\"]\n",
    "\n",
    "# Initialize SVM with a linear kernel\n",
    "svm_model = SVC(kernel=\"linear\")\n",
    "\n",
    "# Fit the model\n",
    "svm_model.fit(X, y)\n",
    "\n",
    "# Predict on the test set\n",
    "y_pred = svm_model.predict(X)\n",
    "\n",
    "# Evaluate the model\n",
    "accuracy = accuracy_score(y, y_pred)\n",
    "print(f\"Accuracy: {accuracy}\")"
   ]
  },
  {
   "cell_type": "code",
   "execution_count": null,
   "id": "66fd22aa-629f-4f66-8c37-10a739961ef6",
   "metadata": {},
   "outputs": [],
   "source": [
    "# Initialize SVM with a linear kernel\n",
    "svm_model = SVC(kernel=\"rbf\")\n",
    "\n",
    "# Fit the model\n",
    "svm_model.fit(X, y)\n",
    "\n",
    "# Predict on the test set\n",
    "y_pred = svm_model.predict(X)\n",
    "\n",
    "# Evaluate the model\n",
    "accuracy = accuracy_score(y, y_pred)\n",
    "print(f\"Accuracy: {accuracy}\")"
   ]
  },
  {
   "cell_type": "code",
   "execution_count": null,
   "id": "9acf68a0-69e4-43da-83fa-e79fa341115e",
   "metadata": {},
   "outputs": [],
   "source": [
    "# Initialize SVM with a linear kernel\n",
    "svm_model = SVC(kernel=\"poly\")\n",
    "\n",
    "# Fit the model\n",
    "svm_model.fit(X, y)\n",
    "\n",
    "# Predict on the test set\n",
    "y_pred = svm_model.predict(X)\n",
    "\n",
    "# Evaluate the model\n",
    "accuracy = accuracy_score(y, y_pred)\n",
    "print(f\"Accuracy: {accuracy}\")"
   ]
  },
  {
   "cell_type": "code",
   "execution_count": null,
   "id": "7ad2600c-b095-4f08-887c-218e47a4dee6",
   "metadata": {},
   "outputs": [],
   "source": []
  },
  {
   "cell_type": "code",
   "execution_count": null,
   "id": "d1ac9ff7-6452-4c98-a18c-1cee4cbb7e13",
   "metadata": {},
   "outputs": [],
   "source": []
  },
  {
   "cell_type": "code",
   "execution_count": null,
   "id": "b53257d7-c3c9-4a0a-9264-d522693f2fc6",
   "metadata": {},
   "outputs": [],
   "source": []
  },
  {
   "cell_type": "code",
   "execution_count": null,
   "id": "c1aa25b1-8864-475b-9534-02ed636d2bee",
   "metadata": {},
   "outputs": [],
   "source": []
  },
  {
   "cell_type": "code",
   "execution_count": null,
   "id": "1cc06925-85f1-4bf5-9a91-edeaf8fca93e",
   "metadata": {},
   "outputs": [],
   "source": []
  },
  {
   "cell_type": "code",
   "execution_count": null,
   "id": "41ee44c0-88d2-4018-8128-56bc92df588f",
   "metadata": {},
   "outputs": [],
   "source": []
  },
  {
   "cell_type": "code",
   "execution_count": null,
   "id": "52d0e7be-6137-4e05-b731-29da536ba822",
   "metadata": {},
   "outputs": [],
   "source": []
  },
  {
   "cell_type": "code",
   "execution_count": null,
   "id": "b93a8fa6-6ffd-4593-b0d3-b3e15115c323",
   "metadata": {},
   "outputs": [],
   "source": []
  }
 ],
 "metadata": {
  "kernelspec": {
   "display_name": "Python 3 (ipykernel)",
   "language": "python",
   "name": "python3"
  },
  "language_info": {
   "codemirror_mode": {
    "name": "ipython",
    "version": 3
   },
   "file_extension": ".py",
   "mimetype": "text/x-python",
   "name": "python",
   "nbconvert_exporter": "python",
   "pygments_lexer": "ipython3",
   "version": "3.9.7"
  }
 },
 "nbformat": 4,
 "nbformat_minor": 5
}

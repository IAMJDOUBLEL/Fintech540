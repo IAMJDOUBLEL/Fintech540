{
 "cells": [
  {
   "cell_type": "markdown",
   "id": "f02bfee3-54db-49a1-a37c-5a944caead13",
   "metadata": {},
   "source": [
    "# Linear Models for Regression"
   ]
  },
  {
   "cell_type": "code",
   "execution_count": 1,
   "id": "cded1272-f0a5-4ea2-990e-ecc98d0cec82",
   "metadata": {
    "tags": []
   },
   "outputs": [
    {
     "data": {
      "text/html": [
       "<style>.container { width:90% !important; }</style>"
      ],
      "text/plain": [
       "<IPython.core.display.HTML object>"
      ]
     },
     "metadata": {},
     "output_type": "display_data"
    }
   ],
   "source": [
    "import datetime\n",
    "from tqdm import tqdm\n",
    "\n",
    "import numpy as np\n",
    "import pandas as pd\n",
    "import matplotlib as mpl\n",
    "import matplotlib.pyplot as plt\n",
    "import seaborn as sns\n",
    "from scipy.stats import pearsonr\n",
    "from scipy import stats\n",
    "\n",
    "import statsmodels.api as sm\n",
    "import statsmodels.formula.api as smf\n",
    "from statsmodels.stats.stattools import durbin_watson\n",
    "\n",
    "from sklearn.linear_model import ElasticNet, Lasso, Ridge, LinearRegression\n",
    "from sklearn.model_selection import train_test_split\n",
    "from sklearn.metrics import mean_squared_error\n",
    "from sklearn.preprocessing import PolynomialFeatures\n",
    "\n",
    "\n",
    "from IPython.display import display, HTML\n",
    "\n",
    "display(HTML(\"<style>.container { width:90% !important; }</style>\"))"
   ]
  },
  {
   "cell_type": "code",
   "execution_count": 2,
   "id": "9db4fdb5-8216-46e8-99a0-a9a6bbc46293",
   "metadata": {
    "tags": []
   },
   "outputs": [],
   "source": [
    "df = pd.read_csv(\"data/Rv_daily_lec4.csv\", index_col=0)"
   ]
  },
  {
   "cell_type": "code",
   "execution_count": 3,
   "id": "51f9c22d-187b-4cfc-ab4d-3f21f2031d1c",
   "metadata": {
    "tags": []
   },
   "outputs": [
    {
     "data": {
      "text/html": [
       "<div>\n",
       "<style scoped>\n",
       "    .dataframe tbody tr th:only-of-type {\n",
       "        vertical-align: middle;\n",
       "    }\n",
       "\n",
       "    .dataframe tbody tr th {\n",
       "        vertical-align: top;\n",
       "    }\n",
       "\n",
       "    .dataframe thead th {\n",
       "        text-align: right;\n",
       "    }\n",
       "</style>\n",
       "<table border=\"1\" class=\"dataframe\">\n",
       "  <thead>\n",
       "    <tr style=\"text-align: right;\">\n",
       "      <th></th>\n",
       "      <th>TBill3M</th>\n",
       "      <th>TBill1Y</th>\n",
       "      <th>Oil</th>\n",
       "      <th>RV</th>\n",
       "      <th>Return_close</th>\n",
       "      <th>Gold</th>\n",
       "      <th>SP_close</th>\n",
       "      <th>SP_volume</th>\n",
       "      <th>Holiday</th>\n",
       "      <th>weekday</th>\n",
       "    </tr>\n",
       "  </thead>\n",
       "  <tbody>\n",
       "    <tr>\n",
       "      <th>1986-01-02</th>\n",
       "      <td>7.33</td>\n",
       "      <td>7.64</td>\n",
       "      <td>25.56</td>\n",
       "      <td>1.119481</td>\n",
       "      <td>-0.070880</td>\n",
       "      <td>326.30</td>\n",
       "      <td>209.589996</td>\n",
       "      <td>98960000</td>\n",
       "      <td>False</td>\n",
       "      <td>3</td>\n",
       "    </tr>\n",
       "    <tr>\n",
       "      <th>1986-01-03</th>\n",
       "      <td>7.29</td>\n",
       "      <td>7.65</td>\n",
       "      <td>26.00</td>\n",
       "      <td>0.997585</td>\n",
       "      <td>0.659602</td>\n",
       "      <td>326.75</td>\n",
       "      <td>210.880005</td>\n",
       "      <td>105000000</td>\n",
       "      <td>False</td>\n",
       "      <td>4</td>\n",
       "    </tr>\n",
       "    <tr>\n",
       "      <th>1986-01-06</th>\n",
       "      <td>7.29</td>\n",
       "      <td>7.64</td>\n",
       "      <td>26.53</td>\n",
       "      <td>0.757349</td>\n",
       "      <td>0.140779</td>\n",
       "      <td>328.00</td>\n",
       "      <td>210.649994</td>\n",
       "      <td>99610000</td>\n",
       "      <td>False</td>\n",
       "      <td>0</td>\n",
       "    </tr>\n",
       "    <tr>\n",
       "      <th>1986-01-07</th>\n",
       "      <td>7.26</td>\n",
       "      <td>7.59</td>\n",
       "      <td>25.85</td>\n",
       "      <td>0.857932</td>\n",
       "      <td>1.304468</td>\n",
       "      <td>330.00</td>\n",
       "      <td>213.800003</td>\n",
       "      <td>153000000</td>\n",
       "      <td>False</td>\n",
       "      <td>1</td>\n",
       "    </tr>\n",
       "    <tr>\n",
       "      <th>1986-01-08</th>\n",
       "      <td>7.40</td>\n",
       "      <td>7.73</td>\n",
       "      <td>25.87</td>\n",
       "      <td>1.211581</td>\n",
       "      <td>-3.677058</td>\n",
       "      <td>332.60</td>\n",
       "      <td>207.970001</td>\n",
       "      <td>180300000</td>\n",
       "      <td>False</td>\n",
       "      <td>2</td>\n",
       "    </tr>\n",
       "  </tbody>\n",
       "</table>\n",
       "</div>"
      ],
      "text/plain": [
       "            TBill3M  TBill1Y    Oil        RV  Return_close    Gold  \\\n",
       "1986-01-02     7.33     7.64  25.56  1.119481     -0.070880  326.30   \n",
       "1986-01-03     7.29     7.65  26.00  0.997585      0.659602  326.75   \n",
       "1986-01-06     7.29     7.64  26.53  0.757349      0.140779  328.00   \n",
       "1986-01-07     7.26     7.59  25.85  0.857932      1.304468  330.00   \n",
       "1986-01-08     7.40     7.73  25.87  1.211581     -3.677058  332.60   \n",
       "\n",
       "              SP_close  SP_volume  Holiday  weekday  \n",
       "1986-01-02  209.589996   98960000    False        3  \n",
       "1986-01-03  210.880005  105000000    False        4  \n",
       "1986-01-06  210.649994   99610000    False        0  \n",
       "1986-01-07  213.800003  153000000    False        1  \n",
       "1986-01-08  207.970001  180300000    False        2  "
      ]
     },
     "execution_count": 3,
     "metadata": {},
     "output_type": "execute_result"
    }
   ],
   "source": [
    "df.head()"
   ]
  },
  {
   "cell_type": "code",
   "execution_count": 4,
   "id": "469de19f-2d94-407e-ae40-24899db5541d",
   "metadata": {
    "tags": []
   },
   "outputs": [
    {
     "data": {
      "text/html": [
       "<div>\n",
       "<style scoped>\n",
       "    .dataframe tbody tr th:only-of-type {\n",
       "        vertical-align: middle;\n",
       "    }\n",
       "\n",
       "    .dataframe tbody tr th {\n",
       "        vertical-align: top;\n",
       "    }\n",
       "\n",
       "    .dataframe thead th {\n",
       "        text-align: right;\n",
       "    }\n",
       "</style>\n",
       "<table border=\"1\" class=\"dataframe\">\n",
       "  <thead>\n",
       "    <tr style=\"text-align: right;\">\n",
       "      <th></th>\n",
       "      <th>TBill3M</th>\n",
       "      <th>TBill1Y</th>\n",
       "      <th>Oil</th>\n",
       "      <th>RV</th>\n",
       "      <th>Return_close</th>\n",
       "      <th>Gold</th>\n",
       "      <th>SP_close</th>\n",
       "      <th>SP_volume</th>\n",
       "      <th>Holiday</th>\n",
       "      <th>weekday</th>\n",
       "    </tr>\n",
       "  </thead>\n",
       "  <tbody>\n",
       "    <tr>\n",
       "      <th>2009-01-29</th>\n",
       "      <td>0.23</td>\n",
       "      <td>0.51</td>\n",
       "      <td>41.58</td>\n",
       "      <td>2.280117</td>\n",
       "      <td>-3.384220</td>\n",
       "      <td>892.25</td>\n",
       "      <td>845.140015</td>\n",
       "      <td>5067060000</td>\n",
       "      <td>False</td>\n",
       "      <td>3</td>\n",
       "    </tr>\n",
       "    <tr>\n",
       "      <th>2009-01-30</th>\n",
       "      <td>0.24</td>\n",
       "      <td>0.51</td>\n",
       "      <td>41.73</td>\n",
       "      <td>2.845552</td>\n",
       "      <td>-1.977889</td>\n",
       "      <td>919.50</td>\n",
       "      <td>825.880005</td>\n",
       "      <td>5350580000</td>\n",
       "      <td>False</td>\n",
       "      <td>4</td>\n",
       "    </tr>\n",
       "    <tr>\n",
       "      <th>2009-02-02</th>\n",
       "      <td>0.27</td>\n",
       "      <td>0.51</td>\n",
       "      <td>41.35</td>\n",
       "      <td>2.594509</td>\n",
       "      <td>-0.546284</td>\n",
       "      <td>918.25</td>\n",
       "      <td>825.440002</td>\n",
       "      <td>5673270000</td>\n",
       "      <td>False</td>\n",
       "      <td>0</td>\n",
       "    </tr>\n",
       "    <tr>\n",
       "      <th>2009-02-03</th>\n",
       "      <td>0.32</td>\n",
       "      <td>0.53</td>\n",
       "      <td>40.87</td>\n",
       "      <td>2.205418</td>\n",
       "      <td>1.209936</td>\n",
       "      <td>904.50</td>\n",
       "      <td>838.510010</td>\n",
       "      <td>5886310000</td>\n",
       "      <td>False</td>\n",
       "      <td>1</td>\n",
       "    </tr>\n",
       "    <tr>\n",
       "      <th>2009-02-04</th>\n",
       "      <td>0.30</td>\n",
       "      <td>0.53</td>\n",
       "      <td>40.27</td>\n",
       "      <td>2.495704</td>\n",
       "      <td>-0.240819</td>\n",
       "      <td>905.00</td>\n",
       "      <td>832.229980</td>\n",
       "      <td>6420450000</td>\n",
       "      <td>False</td>\n",
       "      <td>2</td>\n",
       "    </tr>\n",
       "  </tbody>\n",
       "</table>\n",
       "</div>"
      ],
      "text/plain": [
       "            TBill3M  TBill1Y    Oil        RV  Return_close    Gold  \\\n",
       "2009-01-29     0.23     0.51  41.58  2.280117     -3.384220  892.25   \n",
       "2009-01-30     0.24     0.51  41.73  2.845552     -1.977889  919.50   \n",
       "2009-02-02     0.27     0.51  41.35  2.594509     -0.546284  918.25   \n",
       "2009-02-03     0.32     0.53  40.87  2.205418      1.209936  904.50   \n",
       "2009-02-04     0.30     0.53  40.27  2.495704     -0.240819  905.00   \n",
       "\n",
       "              SP_close   SP_volume  Holiday  weekday  \n",
       "2009-01-29  845.140015  5067060000    False        3  \n",
       "2009-01-30  825.880005  5350580000    False        4  \n",
       "2009-02-02  825.440002  5673270000    False        0  \n",
       "2009-02-03  838.510010  5886310000    False        1  \n",
       "2009-02-04  832.229980  6420450000    False        2  "
      ]
     },
     "execution_count": 4,
     "metadata": {},
     "output_type": "execute_result"
    }
   ],
   "source": [
    "df.tail()"
   ]
  },
  {
   "cell_type": "code",
   "execution_count": 5,
   "id": "2b747d88-4cab-4b05-aa7d-fc68965bd042",
   "metadata": {
    "tags": []
   },
   "outputs": [],
   "source": [
    "var = \"RV\""
   ]
  },
  {
   "cell_type": "code",
   "execution_count": 6,
   "id": "d71f2d93-5545-4e3a-81f3-63af206fcb93",
   "metadata": {},
   "outputs": [
    {
     "data": {
      "image/png": "[encoded data removed]",
      "text/plain": [
       "<Figure size 432x288 with 1 Axes>"
      ]
     },
     "metadata": {
      "needs_background": "light"
     },
     "output_type": "display_data"
    }
   ],
   "source": [
    "# Scatter plot the data.\n",
    "df.plot.scatter(x=\"Return_close\", y=var, title=\"SP500 ret vs T-Bill 3M\");"
   ]
  },
  {
   "cell_type": "code",
   "execution_count": 7,
   "id": "10b634d4-801f-4e10-9ee2-2d7536eb6b64",
   "metadata": {
    "tags": []
   },
   "outputs": [
    {
     "data": {
      "image/png": "[encoded data removed]",
      "text/plain": [
       "<Figure size 432x288 with 1 Axes>"
      ]
     },
     "metadata": {
      "needs_background": "light"
     },
     "output_type": "display_data"
    }
   ],
   "source": [
    "# Scatter plot the data.\n",
    "fig, ax = plt.subplots()\n",
    "df.plot.scatter(x=\"Return_close\", y=var, title=\"SP500 ret vs {}\".format(var), ax=ax)\n",
    "ax.set_xlim(-10, 10);"
   ]
  },
  {
   "cell_type": "code",
   "execution_count": 8,
   "id": "a8a9452c-3d51-42f4-8789-95d1fd7d60a1",
   "metadata": {},
   "outputs": [
    {
     "data": {
      "text/html": [
       "<div>\n",
       "<style scoped>\n",
       "    .dataframe tbody tr th:only-of-type {\n",
       "        vertical-align: middle;\n",
       "    }\n",
       "\n",
       "    .dataframe tbody tr th {\n",
       "        vertical-align: top;\n",
       "    }\n",
       "\n",
       "    .dataframe thead th {\n",
       "        text-align: right;\n",
       "    }\n",
       "</style>\n",
       "<table border=\"1\" class=\"dataframe\">\n",
       "  <thead>\n",
       "    <tr style=\"text-align: right;\">\n",
       "      <th></th>\n",
       "      <th>Return_close</th>\n",
       "      <th>RV</th>\n",
       "    </tr>\n",
       "  </thead>\n",
       "  <tbody>\n",
       "    <tr>\n",
       "      <th>Return_close</th>\n",
       "      <td>1.000000</td>\n",
       "      <td>-0.149265</td>\n",
       "    </tr>\n",
       "    <tr>\n",
       "      <th>RV</th>\n",
       "      <td>-0.149265</td>\n",
       "      <td>1.000000</td>\n",
       "    </tr>\n",
       "  </tbody>\n",
       "</table>\n",
       "</div>"
      ],
      "text/plain": [
       "              Return_close        RV\n",
       "Return_close      1.000000 -0.149265\n",
       "RV               -0.149265  1.000000"
      ]
     },
     "execution_count": 8,
     "metadata": {},
     "output_type": "execute_result"
    }
   ],
   "source": [
    "# Look at the Pearson correlation coefficient.\n",
    "df[[\"Return_close\", var]].corr(method=\"pearson\")"
   ]
  },
  {
   "cell_type": "markdown",
   "id": "7d398fd6-9a87-4384-984f-c652ad0ec9ee",
   "metadata": {},
   "source": [
    "IMPORTANT: With $|C| =  -0.15$ we hope to be able to say that there is a negative linear relationship (although there could be a nonlinear too...). Nonetheless, you can never rely on a conclusion that was reached by taking the values of the statistics based on the first impression while doing nothing else."
   ]
  },
  {
   "cell_type": "code",
   "execution_count": 9,
   "id": "f52b0317-3e13-43ef-9229-3ab794e9ab8a",
   "metadata": {},
   "outputs": [
    {
     "name": "stdout",
     "output_type": "stream",
     "text": [
      "correlation = -0.149265\n",
      "P_value = 0.000000\n"
     ]
    }
   ],
   "source": [
    "(r, P_value) = pearsonr(df[\"Return_close\"], df[var])\n",
    "print(\"correlation = %f\" % r)\n",
    "print(\"P_value = %f\" % P_value)"
   ]
  },
  {
   "cell_type": "markdown",
   "id": "1e5b44ac-a884-4db2-9a01-079ebfbceb22",
   "metadata": {},
   "source": [
    "The p-value roughly indicates the probability of an uncorrelated system producing datasets that have a Pearson correlation at least as extreme as the one computed from these datasets. The p-values are not entirely reliable but are probably reasonable for datasets larger than 500 or so."
   ]
  },
  {
   "cell_type": "code",
   "execution_count": 10,
   "id": "41446822-fe70-4665-ab34-b0e16d6996d4",
   "metadata": {
    "tags": []
   },
   "outputs": [
    {
     "data": {
      "text/plain": [
       "Index(['TBill3M', 'TBill1Y', 'Oil', 'RV', 'Return_close', 'Gold', 'SP_close',\n",
       "       'SP_volume', 'Holiday', 'weekday'],\n",
       "      dtype='object')"
      ]
     },
     "execution_count": 10,
     "metadata": {},
     "output_type": "execute_result"
    }
   ],
   "source": [
    "df.columns"
   ]
  },
  {
   "cell_type": "markdown",
   "id": "32aaf292-3cb8-4fc5-aee0-c47a2c91bdbc",
   "metadata": {},
   "source": [
    "# Univariate Linear Regression\n",
    "\n",
    "We now begin considering the mathematical modeling of data in Python. The first - and arguably the most straightforward - statistical model that we will face is the univariate linear regression model. We have one continuous predictor - also known as the independent variable - and one continuous the dependent variable. The task changes depending on the values that those variables assume. If the dependent variable is assumed to be unbounded, i.e., taking values across the whole domain of real numbers, we are solving a **regression** problem. \n",
    "\n",
    "<div style=\"text-align:center; font-size:24px\">\n",
    "    <span style=\"color:red\">What does it happen if the independent variable is categorical?</span>\n",
    "</div>\n",
    "\n",
    "\n",
    "Linear regression does not imply any causality; it is up to the model user to impose causal assumptions, i.e., which variable takes the role of the criterion and which variable is assigned as a predictor. It is unnecessary to set any such assumptions to obtain a valid linear regression model. However, it is very customary to have some hypothesized direction of causality to discuss prediction meaningfully.\n",
    "\n",
    "Like any other statistical model, linear regression rests upon some assumptions. We will discuss the following more thoroughly and learn how to assess their validity during this session:\n",
    "\n",
    "* **Linearity**: The relationship between the independent and dependent variables is linear. This also means that the effects of the changes in the independent variable(s) on the dependent variable are constant.;\n",
    "* **Normal distribution of residuals (model errors)**: The errors (residuals of the model) follow a Normal distribution.;\n",
    "* **Constant variance: homoscedasticity**:The variance of the errors is constant across all levels of the independent variables. This means that the 'spread' of the residuals should remain constant and not form a funnel-like shape.;\n",
    "* **Independence of errors == no autocorrelation of residuals**;\n",
    "* **No significant outliers or influential cases**;\n",
    "\n",
    "\n",
    "\n",
    "\n",
    "Let's come up with our initial linear regression model:\n",
    "\n",
    "\n",
    "1. One variable, denoted `x`, is regarded as the predictor, explanatory, or independent variable.\n",
    "2. The other variable, denoted `y`, is regarded as the response, outcome, or dependent variable.\n",
    "\n",
    "In your case, 'x' could be any of the explanatory variables like `TBill1Y`, `TBill3M`, `Oil`, `RV`, `Gold`, `SP_volume`, `weekday` and 'y' could be `Return_close`, if you're trying to predict returns based on these factors.\n",
    "\n",
    "The simple linear regression model provides a coefficient estimate that quantifies the direction and strength of the relationship between the predictor variable and the response. The estimated regression function (black line) has the equation:\n",
    "\n",
    "$$y = b_o + b_1 x$$\n",
    "\n",
    "$b_o$ and $b_1$ are two unknown constants that represent the intercept and slope terms in the linear model.\n",
    "\n",
    "We will use the `statsmodels` package to conduct simple linear regression. We choose the realized volatility (RV) as the predictor variable and the S&P500 returns as the response variable:"
   ]
  },
  {
   "cell_type": "code",
   "execution_count": 12,
   "id": "5244bf8b-273d-48b1-bae2-c074673877e8",
   "metadata": {},
   "outputs": [
    {
     "data": {
      "text/plain": [
       "<AxesSubplot:>"
      ]
     },
     "execution_count": 12,
     "metadata": {},
     "output_type": "execute_result"
    },
    {
     "data": {
      "image/png": "[encoded data removed]",
      "text/plain": [
       "<Figure size 432x288 with 1 Axes>"
      ]
     },
     "metadata": {
      "needs_background": "light"
     },
     "output_type": "display_data"
    }
   ],
   "source": [
    "df['RV'].plot()"
   ]
  },
  {
   "cell_type": "code",
   "execution_count": 11,
   "id": "0456e0bb-74cc-4dbf-b201-52f9deb6ce09",
   "metadata": {
    "tags": []
   },
   "outputs": [
    {
     "data": {
      "text/html": [
       "<div>\n",
       "<style scoped>\n",
       "    .dataframe tbody tr th:only-of-type {\n",
       "        vertical-align: middle;\n",
       "    }\n",
       "\n",
       "    .dataframe tbody tr th {\n",
       "        vertical-align: top;\n",
       "    }\n",
       "\n",
       "    .dataframe thead th {\n",
       "        text-align: right;\n",
       "    }\n",
       "</style>\n",
       "<table border=\"1\" class=\"dataframe\">\n",
       "  <thead>\n",
       "    <tr style=\"text-align: right;\">\n",
       "      <th></th>\n",
       "      <th>TBill3M</th>\n",
       "      <th>TBill1Y</th>\n",
       "      <th>Oil</th>\n",
       "      <th>RV</th>\n",
       "      <th>Return_close</th>\n",
       "      <th>Gold</th>\n",
       "      <th>SP_close</th>\n",
       "      <th>SP_volume</th>\n",
       "      <th>Holiday</th>\n",
       "      <th>weekday</th>\n",
       "    </tr>\n",
       "  </thead>\n",
       "  <tbody>\n",
       "    <tr>\n",
       "      <th>1986-01-02</th>\n",
       "      <td>7.33</td>\n",
       "      <td>7.64</td>\n",
       "      <td>25.56</td>\n",
       "      <td>1.119481</td>\n",
       "      <td>-0.070880</td>\n",
       "      <td>326.30</td>\n",
       "      <td>209.589996</td>\n",
       "      <td>98960000</td>\n",
       "      <td>False</td>\n",
       "      <td>3</td>\n",
       "    </tr>\n",
       "    <tr>\n",
       "      <th>1986-01-03</th>\n",
       "      <td>7.29</td>\n",
       "      <td>7.65</td>\n",
       "      <td>26.00</td>\n",
       "      <td>0.997585</td>\n",
       "      <td>0.659602</td>\n",
       "      <td>326.75</td>\n",
       "      <td>210.880005</td>\n",
       "      <td>105000000</td>\n",
       "      <td>False</td>\n",
       "      <td>4</td>\n",
       "    </tr>\n",
       "    <tr>\n",
       "      <th>1986-01-06</th>\n",
       "      <td>7.29</td>\n",
       "      <td>7.64</td>\n",
       "      <td>26.53</td>\n",
       "      <td>0.757349</td>\n",
       "      <td>0.140779</td>\n",
       "      <td>328.00</td>\n",
       "      <td>210.649994</td>\n",
       "      <td>99610000</td>\n",
       "      <td>False</td>\n",
       "      <td>0</td>\n",
       "    </tr>\n",
       "    <tr>\n",
       "      <th>1986-01-07</th>\n",
       "      <td>7.26</td>\n",
       "      <td>7.59</td>\n",
       "      <td>25.85</td>\n",
       "      <td>0.857932</td>\n",
       "      <td>1.304468</td>\n",
       "      <td>330.00</td>\n",
       "      <td>213.800003</td>\n",
       "      <td>153000000</td>\n",
       "      <td>False</td>\n",
       "      <td>1</td>\n",
       "    </tr>\n",
       "    <tr>\n",
       "      <th>1986-01-08</th>\n",
       "      <td>7.40</td>\n",
       "      <td>7.73</td>\n",
       "      <td>25.87</td>\n",
       "      <td>1.211581</td>\n",
       "      <td>-3.677058</td>\n",
       "      <td>332.60</td>\n",
       "      <td>207.970001</td>\n",
       "      <td>180300000</td>\n",
       "      <td>False</td>\n",
       "      <td>2</td>\n",
       "    </tr>\n",
       "    <tr>\n",
       "      <th>...</th>\n",
       "      <td>...</td>\n",
       "      <td>...</td>\n",
       "      <td>...</td>\n",
       "      <td>...</td>\n",
       "      <td>...</td>\n",
       "      <td>...</td>\n",
       "      <td>...</td>\n",
       "      <td>...</td>\n",
       "      <td>...</td>\n",
       "      <td>...</td>\n",
       "    </tr>\n",
       "    <tr>\n",
       "      <th>2009-01-29</th>\n",
       "      <td>0.23</td>\n",
       "      <td>0.51</td>\n",
       "      <td>41.58</td>\n",
       "      <td>2.280117</td>\n",
       "      <td>-3.384220</td>\n",
       "      <td>892.25</td>\n",
       "      <td>845.140015</td>\n",
       "      <td>5067060000</td>\n",
       "      <td>False</td>\n",
       "      <td>3</td>\n",
       "    </tr>\n",
       "    <tr>\n",
       "      <th>2009-01-30</th>\n",
       "      <td>0.24</td>\n",
       "      <td>0.51</td>\n",
       "      <td>41.73</td>\n",
       "      <td>2.845552</td>\n",
       "      <td>-1.977889</td>\n",
       "      <td>919.50</td>\n",
       "      <td>825.880005</td>\n",
       "      <td>5350580000</td>\n",
       "      <td>False</td>\n",
       "      <td>4</td>\n",
       "    </tr>\n",
       "    <tr>\n",
       "      <th>2009-02-02</th>\n",
       "      <td>0.27</td>\n",
       "      <td>0.51</td>\n",
       "      <td>41.35</td>\n",
       "      <td>2.594509</td>\n",
       "      <td>-0.546284</td>\n",
       "      <td>918.25</td>\n",
       "      <td>825.440002</td>\n",
       "      <td>5673270000</td>\n",
       "      <td>False</td>\n",
       "      <td>0</td>\n",
       "    </tr>\n",
       "    <tr>\n",
       "      <th>2009-02-03</th>\n",
       "      <td>0.32</td>\n",
       "      <td>0.53</td>\n",
       "      <td>40.87</td>\n",
       "      <td>2.205418</td>\n",
       "      <td>1.209936</td>\n",
       "      <td>904.50</td>\n",
       "      <td>838.510010</td>\n",
       "      <td>5886310000</td>\n",
       "      <td>False</td>\n",
       "      <td>1</td>\n",
       "    </tr>\n",
       "    <tr>\n",
       "      <th>2009-02-04</th>\n",
       "      <td>0.30</td>\n",
       "      <td>0.53</td>\n",
       "      <td>40.27</td>\n",
       "      <td>2.495704</td>\n",
       "      <td>-0.240819</td>\n",
       "      <td>905.00</td>\n",
       "      <td>832.229980</td>\n",
       "      <td>6420450000</td>\n",
       "      <td>False</td>\n",
       "      <td>2</td>\n",
       "    </tr>\n",
       "  </tbody>\n",
       "</table>\n",
       "<p>5712 rows × 10 columns</p>\n",
       "</div>"
      ],
      "text/plain": [
       "            TBill3M  TBill1Y    Oil        RV  Return_close    Gold  \\\n",
       "1986-01-02     7.33     7.64  25.56  1.119481     -0.070880  326.30   \n",
       "1986-01-03     7.29     7.65  26.00  0.997585      0.659602  326.75   \n",
       "1986-01-06     7.29     7.64  26.53  0.757349      0.140779  328.00   \n",
       "1986-01-07     7.26     7.59  25.85  0.857932      1.304468  330.00   \n",
       "1986-01-08     7.40     7.73  25.87  1.211581     -3.677058  332.60   \n",
       "...             ...      ...    ...       ...           ...     ...   \n",
       "2009-01-29     0.23     0.51  41.58  2.280117     -3.384220  892.25   \n",
       "2009-01-30     0.24     0.51  41.73  2.845552     -1.977889  919.50   \n",
       "2009-02-02     0.27     0.51  41.35  2.594509     -0.546284  918.25   \n",
       "2009-02-03     0.32     0.53  40.87  2.205418      1.209936  904.50   \n",
       "2009-02-04     0.30     0.53  40.27  2.495704     -0.240819  905.00   \n",
       "\n",
       "              SP_close   SP_volume  Holiday  weekday  \n",
       "1986-01-02  209.589996    98960000    False        3  \n",
       "1986-01-03  210.880005   105000000    False        4  \n",
       "1986-01-06  210.649994    99610000    False        0  \n",
       "1986-01-07  213.800003   153000000    False        1  \n",
       "1986-01-08  207.970001   180300000    False        2  \n",
       "...                ...         ...      ...      ...  \n",
       "2009-01-29  845.140015  5067060000    False        3  \n",
       "2009-01-30  825.880005  5350580000    False        4  \n",
       "2009-02-02  825.440002  5673270000    False        0  \n",
       "2009-02-03  838.510010  5886310000    False        1  \n",
       "2009-02-04  832.229980  6420450000    False        2  \n",
       "\n",
       "[5712 rows x 10 columns]"
      ]
     },
     "execution_count": 11,
     "metadata": {},
     "output_type": "execute_result"
    }
   ],
   "source": [
    "df"
   ]
  },
  {
   "cell_type": "code",
   "execution_count": 22,
   "id": "c08d777f-fdd1-4212-bdf2-21a39f62d84e",
   "metadata": {
    "tags": []
   },
   "outputs": [],
   "source": [
    "X = df[\"RV\"]\n",
    "y = df[\"Return_close\"]"
   ]
  },
  {
   "cell_type": "markdown",
   "id": "5f15af3c-5b80-4453-8184-03d1cdceccee",
   "metadata": {},
   "source": [
    "Before we perform the regression, we need to add a constant to our X variable:"
   ]
  },
  {
   "cell_type": "code",
   "execution_count": 23,
   "id": "aca1924a-9209-4139-8fa7-1ee9f2922355",
   "metadata": {
    "tags": []
   },
   "outputs": [],
   "source": [
    "X = sm.add_constant(X)"
   ]
  },
  {
   "cell_type": "code",
   "execution_count": 15,
   "id": "c259d9db-c25a-4d9a-8c1c-99bebfedafb8",
   "metadata": {},
   "outputs": [
    {
     "data": {
      "text/html": [
       "<div>\n",
       "<style scoped>\n",
       "    .dataframe tbody tr th:only-of-type {\n",
       "        vertical-align: middle;\n",
       "    }\n",
       "\n",
       "    .dataframe tbody tr th {\n",
       "        vertical-align: top;\n",
       "    }\n",
       "\n",
       "    .dataframe thead th {\n",
       "        text-align: right;\n",
       "    }\n",
       "</style>\n",
       "<table border=\"1\" class=\"dataframe\">\n",
       "  <thead>\n",
       "    <tr style=\"text-align: right;\">\n",
       "      <th></th>\n",
       "      <th>const</th>\n",
       "      <th>RV</th>\n",
       "    </tr>\n",
       "  </thead>\n",
       "  <tbody>\n",
       "    <tr>\n",
       "      <th>1986-01-02</th>\n",
       "      <td>1.0</td>\n",
       "      <td>1.119481</td>\n",
       "    </tr>\n",
       "    <tr>\n",
       "      <th>1986-01-03</th>\n",
       "      <td>1.0</td>\n",
       "      <td>0.997585</td>\n",
       "    </tr>\n",
       "    <tr>\n",
       "      <th>1986-01-06</th>\n",
       "      <td>1.0</td>\n",
       "      <td>0.757349</td>\n",
       "    </tr>\n",
       "    <tr>\n",
       "      <th>1986-01-07</th>\n",
       "      <td>1.0</td>\n",
       "      <td>0.857932</td>\n",
       "    </tr>\n",
       "    <tr>\n",
       "      <th>1986-01-08</th>\n",
       "      <td>1.0</td>\n",
       "      <td>1.211581</td>\n",
       "    </tr>\n",
       "    <tr>\n",
       "      <th>...</th>\n",
       "      <td>...</td>\n",
       "      <td>...</td>\n",
       "    </tr>\n",
       "    <tr>\n",
       "      <th>2009-01-29</th>\n",
       "      <td>1.0</td>\n",
       "      <td>2.280117</td>\n",
       "    </tr>\n",
       "    <tr>\n",
       "      <th>2009-01-30</th>\n",
       "      <td>1.0</td>\n",
       "      <td>2.845552</td>\n",
       "    </tr>\n",
       "    <tr>\n",
       "      <th>2009-02-02</th>\n",
       "      <td>1.0</td>\n",
       "      <td>2.594509</td>\n",
       "    </tr>\n",
       "    <tr>\n",
       "      <th>2009-02-03</th>\n",
       "      <td>1.0</td>\n",
       "      <td>2.205418</td>\n",
       "    </tr>\n",
       "    <tr>\n",
       "      <th>2009-02-04</th>\n",
       "      <td>1.0</td>\n",
       "      <td>2.495704</td>\n",
       "    </tr>\n",
       "  </tbody>\n",
       "</table>\n",
       "<p>5712 rows × 2 columns</p>\n",
       "</div>"
      ],
      "text/plain": [
       "            const        RV\n",
       "1986-01-02    1.0  1.119481\n",
       "1986-01-03    1.0  0.997585\n",
       "1986-01-06    1.0  0.757349\n",
       "1986-01-07    1.0  0.857932\n",
       "1986-01-08    1.0  1.211581\n",
       "...           ...       ...\n",
       "2009-01-29    1.0  2.280117\n",
       "2009-01-30    1.0  2.845552\n",
       "2009-02-02    1.0  2.594509\n",
       "2009-02-03    1.0  2.205418\n",
       "2009-02-04    1.0  2.495704\n",
       "\n",
       "[5712 rows x 2 columns]"
      ]
     },
     "execution_count": 15,
     "metadata": {},
     "output_type": "execute_result"
    }
   ],
   "source": [
    "X"
   ]
  },
  {
   "cell_type": "code",
   "execution_count": 24,
   "id": "264dd3b0-15fa-4581-b4cd-8b03c6f5e2b2",
   "metadata": {
    "tags": []
   },
   "outputs": [],
   "source": [
    "model = sm.OLS(y, X)\n",
    "results = model.fit()"
   ]
  },
  {
   "cell_type": "code",
   "execution_count": 25,
   "id": "62d012cd-a36a-4f06-9075-9198334ecb63",
   "metadata": {
    "tags": []
   },
   "outputs": [
    {
     "name": "stdout",
     "output_type": "stream",
     "text": [
      "                            OLS Regression Results                            \n",
      "==============================================================================\n",
      "Dep. Variable:           Return_close   R-squared:                       0.022\n",
      "Model:                            OLS   Adj. R-squared:                  0.022\n",
      "Method:                 Least Squares   F-statistic:                     130.1\n",
      "Date:                Thu, 14 Sep 2023   Prob (F-statistic):           8.11e-30\n",
      "Time:                        14:53:24   Log-Likelihood:                -9483.7\n",
      "No. Observations:                5712   AIC:                         1.897e+04\n",
      "Df Residuals:                    5710   BIC:                         1.898e+04\n",
      "Df Model:                           1                                         \n",
      "Covariance Type:            nonrobust                                         \n",
      "==============================================================================\n",
      "                 coef    std err          t      P>|t|      [0.025      0.975]\n",
      "------------------------------------------------------------------------------\n",
      "const          0.4042      0.038     10.760      0.000       0.331       0.478\n",
      "RV            -0.3354      0.029    -11.407      0.000      -0.393      -0.278\n",
      "==============================================================================\n",
      "Omnibus:                     4314.025   Durbin-Watson:                   2.098\n",
      "Prob(Omnibus):                  0.000   Jarque-Bera (JB):          2102881.962\n",
      "Skew:                          -2.430   Prob(JB):                         0.00\n",
      "Kurtosis:                      96.872   Cond. No.                         4.36\n",
      "==============================================================================\n",
      "\n",
      "Notes:\n",
      "[1] Standard Errors assume that the covariance matrix of the errors is correctly specified.\n"
     ]
    }
   ],
   "source": [
    "print(results.summary())"
   ]
  },
  {
   "cell_type": "markdown",
   "id": "b978db7e-ab3d-4824-b132-f30b00b85290",
   "metadata": {},
   "source": [
    "$$\\hat{y} = 0.4042 - 0.3354 x$$"
   ]
  },
  {
   "cell_type": "markdown",
   "id": "5818f48e-90ff-4711-928b-8314453cde8b",
   "metadata": {},
   "source": [
    "### Look at the residuals"
   ]
  },
  {
   "cell_type": "code",
   "execution_count": 27,
   "id": "c9b7a930-f1a3-4b76-8903-a34b95a20fa7",
   "metadata": {
    "tags": []
   },
   "outputs": [
    {
     "data": {
      "text/plain": [
       "1986-01-02   -0.099574\n",
       "1986-01-03    0.590021\n",
       "1986-01-06   -0.009382\n",
       "1986-01-07    1.188044\n",
       "1986-01-08   -3.674860\n",
       "                ...   \n",
       "2009-01-29   -3.023610\n",
       "2009-01-30   -1.427618\n",
       "2009-02-02   -0.080218\n",
       "2009-02-03    1.545491\n",
       "2009-02-04    0.192105\n",
       "Length: 5712, dtype: float64"
      ]
     },
     "execution_count": 27,
     "metadata": {},
     "output_type": "execute_result"
    }
   ],
   "source": [
    "results.resid  # from stats object"
   ]
  },
  {
   "cell_type": "code",
   "execution_count": 28,
   "id": "5d0d85db-f26e-4553-bc52-03012c8e7a11",
   "metadata": {
    "tags": []
   },
   "outputs": [],
   "source": [
    "residuals = results.resid"
   ]
  },
  {
   "cell_type": "markdown",
   "id": "49b04d63-0885-416b-bd9c-083b979884ac",
   "metadata": {},
   "source": [
    "### Test for Error Normality\n",
    "\n",
    "One of the main assumption for the inferential part of the regression (OLS - ordinary least\n",
    "squares) is the assumption that the errors follow a normal distribution. A first important\n",
    "verification is to check the compatibility of the residuals (the errors observed on the sample)\n",
    "with this assumption."
   ]
  },
  {
   "cell_type": "code",
   "execution_count": 29,
   "id": "aa48bd9f-4ea3-492e-9bbc-961853179206",
   "metadata": {
    "tags": []
   },
   "outputs": [
    {
     "data": {
      "text/plain": [
       "<seaborn.axisgrid.FacetGrid at 0x7f529cf4a610>"
      ]
     },
     "execution_count": 29,
     "metadata": {},
     "output_type": "execute_result"
    },
    {
     "data": {
      "image/png": "[encoded data removed]",
      "text/plain": [
       "<Figure size 360x360 with 1 Axes>"
      ]
     },
     "metadata": {
      "needs_background": "light"
     },
     "output_type": "display_data"
    }
   ],
   "source": [
    "sns.displot(residuals)"
   ]
  },
  {
   "cell_type": "code",
   "execution_count": 32,
   "id": "e0d00e02-5d31-43be-a851-9ea52dd8f8ef",
   "metadata": {
    "tags": []
   },
   "outputs": [
    {
     "data": {
      "image/png": "[encoded data removed]",
      "text/plain": [
       "<Figure size 432x288 with 1 Axes>"
      ]
     },
     "metadata": {
      "needs_background": "light"
     },
     "output_type": "display_data"
    }
   ],
   "source": [
    "mu = residuals.mean()\n",
    "std = residuals.std()\n",
    "x = residuals.sort_values()\n",
    "plt.hist(residuals, bins=100, density=1)\n",
    "plt.plot(x, stats.norm.pdf(x, mu, std), \"red\")\n",
    "plt.xlabel(\"residuals\")\n",
    "plt.show()"
   ]
  },
  {
   "cell_type": "code",
   "execution_count": 33,
   "id": "af23688b-5ce8-400d-9007-3963f7174b82",
   "metadata": {
    "tags": []
   },
   "outputs": [
    {
     "name": "stdout",
     "output_type": "stream",
     "text": [
      "skewness -> -2.430793\n",
      "excess kurtosis -> 93.955612\n"
     ]
    }
   ],
   "source": [
    "# Residuals sklearn\n",
    "print(\"skewness -> %f\" % residuals.skew())\n",
    "print(\"excess kurtosis -> %f\" % residuals.kurt())"
   ]
  },
  {
   "cell_type": "markdown",
   "id": "a3311451-432d-436d-8364-19970ced4d3d",
   "metadata": {},
   "source": [
    "### Jarque-Bera normality test  (uses only skewness and kurtosis)\n",
    "If the data comes from a normal distribution, the JB statistic **asymptotically** has a **Chi-Squared** distribution with 2 degrees of freedom\n",
    "$$JB = \\frac{n-k}{6}(\\xi^2+\\frac 1 4(\\chi -3)^2) $$\n",
    "where $n$ is the number of observations and $k$ is the number of regressors when examining residuals to an equation."
   ]
  },
  {
   "cell_type": "code",
   "execution_count": 34,
   "id": "16e2440c-7a8f-435f-8f8c-e3cc8c4c5342",
   "metadata": {
    "tags": []
   },
   "outputs": [
    {
     "name": "stdout",
     "output_type": "stream",
     "text": [
      "2102881.9621145832 0.0 -2.4301543894879294 96.87233828371791\n"
     ]
    }
   ],
   "source": [
    "JB, JBpv, skw, kurt = sm.stats.stattools.jarque_bera(residuals)\n",
    "print(JB, JBpv, skw, kurt)"
   ]
  },
  {
   "cell_type": "markdown",
   "id": "84206aa9-66ff-4186-a9ef-4dc6943f079b",
   "metadata": {},
   "source": [
    "Here we reject the null hypotesis that the errors follow a normal distribution.\n",
    "### Q-Q plot \n"
   ]
  },
  {
   "cell_type": "code",
   "execution_count": null,
   "id": "a5b2ec5d-5b95-43df-9293-e3ac11994e18",
   "metadata": {
    "tags": []
   },
   "outputs": [],
   "source": [
    "sm.qqplot(residuals, line=\"s\")"
   ]
  },
  {
   "cell_type": "markdown",
   "id": "0824166d-3ed4-41b7-9c1b-82d6c3ef3f93",
   "metadata": {},
   "source": [
    "###  K-S test\n",
    "The Kolmogorov–Smirnov statistic for a given cumulative distribution function $F(x)$ is:\n",
    "$$D_n = \\sup_x |F_n(x)- F(x)|$$\n",
    "Asymptotically $\\sqrt {n}D_{n}$ converges to the Kolmogorov distribution, which does not depend on F."
   ]
  },
  {
   "cell_type": "code",
   "execution_count": null,
   "id": "2310b012-0fc6-4710-b63d-efd42a135219",
   "metadata": {},
   "outputs": [],
   "source": [
    "x"
   ]
  },
  {
   "cell_type": "code",
   "execution_count": null,
   "id": "689846c4-bb57-4e3e-92cf-a9f535ca15ff",
   "metadata": {
    "tags": []
   },
   "outputs": [],
   "source": [
    "(KS, p_V) = stats.kstest(residuals, \"norm\")\n",
    "print(\"KS -> %f\" % (KS))\n",
    "print(\"p_V -> %f\" % (p_V))"
   ]
  },
  {
   "cell_type": "markdown",
   "id": "55c1ea47-5aa0-4fd8-b79e-5a9f8533b62b",
   "metadata": {},
   "source": [
    "### Homoskedasticity"
   ]
  },
  {
   "cell_type": "code",
   "execution_count": null,
   "id": "41b3fa6f-a379-4344-9520-d8b72539c39d",
   "metadata": {
    "tags": []
   },
   "outputs": [],
   "source": [
    "plt.scatter(X.iloc[:, 1], residuals)\n",
    "plt.xlabel(\"Returns\")\n",
    "plt.ylabel(\"Residuals\")"
   ]
  },
  {
   "cell_type": "markdown",
   "id": "26a8c834-f35b-49ff-ac86-77be630a5647",
   "metadata": {},
   "source": [
    "### Durbin-Watson test\n",
    "The null hypothesis of the test is that there is no serial correlation. The Durbin-Watson test statistics is defined as:\n",
    "\n",
    "$$DB = \\frac{\\sum_t (e_t-e_{t-1})^2}{\\sum_t e_t^2}$$\n",
    "The test statistic is approximately equal to $2*(1-r)$ where $r$ is the sample autocorrelation of the residuals. Thus, for $r = 0$, indicating no serial correlation, the test statistic equals $2$. This statistic will always be between 0 and 4. The closer to 0 the statistic, the more evidence for positive serial correlation. The closer to 4, the more evidence for negative serial correlation."
   ]
  },
  {
   "cell_type": "code",
   "execution_count": null,
   "id": "5c6b103a-a54d-43e0-885d-199b24eddf82",
   "metadata": {
    "tags": []
   },
   "outputs": [],
   "source": [
    "X[\"res\"] = results.resid\n",
    "E = X.sort_values(by=\"RV\").res\n",
    "print(\"DB_e -> %f\" % durbin_watson(E))\n",
    "print(\"DB_e^2 -> %f\" % durbin_watson(E**2))"
   ]
  },
  {
   "cell_type": "markdown",
   "id": "fb1c4034-4277-4e38-9adc-0a5ba0027bc3",
   "metadata": {},
   "source": [
    "If the assumptions of linearity, independence, homoscedasticity, and normality are violated, you might need to consider data transformations, adding interaction terms or applying a more suitable modeling technique.\n",
    "\n",
    "Please note that real-world data often violate the assumptions to some degree but still result in useful models. It's the degree of violation that determines whether we can overlook the violation or need to address it."
   ]
  },
  {
   "cell_type": "markdown",
   "id": "d44278ae-2570-48e8-a0cb-6be3a8f0d92e",
   "metadata": {},
   "source": [
    "# Multivariate Linear Regression\n",
    "\n",
    "Multivariate linear regression is an extension of univariate linear regression used to predict an outcome variable (Y) based on multivariate distinct predictor variables (X). With three or more variables involved, the data is modelled as a hyperplane in multidimensional space.\n",
    "\n",
    "The multivariate linear regression equation is as follows:\n",
    "\n",
    "$$y = b_0 + b_1x_1 + b_2x_2 + ... + b_nx_n + e$$\n",
    "\n",
    "Where:\n",
    "- $y$ is the dependent variable.\n",
    "- $b_0$, $b_1$, ..., $b_n$ are the regression coefficients. They represent the change in the dependent variable for every one unit change in an independent variable, assuming all other variables are held constant.\n",
    "- $x_1$, $x_2$, ..., $x_n$ are independent variables.\n",
    "- e is the error term (residuals).\n",
    "\n",
    "Just as with univariate linear regression, the assumptions for multivariate linear regression are linearity, independence, homoscedasticity, and normality of residuals.\n",
    "\n",
    "Remember, when using multivariate linear regression, multicollinearity can be a problem. Multicollinearity is when predictor variables are correlated with each other. This can be checked by examining the correlation matrix of the variables. If multicollinearity is found, you might need to remove one of the correlated variables or perform dimensionality reduction.\n",
    "\n",
    "\n",
    "<div style=\"text-align:center; font-size:24px\">\n",
    "    <span style=\"color:red\">Can I have both continuous and categorical predictors in a multivariate linear regression?</span>\n",
    "</div>\n",
    "\n"
   ]
  },
  {
   "cell_type": "code",
   "execution_count": 35,
   "id": "742c4268-294a-40ac-a59d-84453183496a",
   "metadata": {},
   "outputs": [
    {
     "data": {
      "text/html": [
       "<div>\n",
       "<style scoped>\n",
       "    .dataframe tbody tr th:only-of-type {\n",
       "        vertical-align: middle;\n",
       "    }\n",
       "\n",
       "    .dataframe tbody tr th {\n",
       "        vertical-align: top;\n",
       "    }\n",
       "\n",
       "    .dataframe thead th {\n",
       "        text-align: right;\n",
       "    }\n",
       "</style>\n",
       "<table border=\"1\" class=\"dataframe\">\n",
       "  <thead>\n",
       "    <tr style=\"text-align: right;\">\n",
       "      <th></th>\n",
       "      <th>TBill3M</th>\n",
       "      <th>TBill1Y</th>\n",
       "      <th>Oil</th>\n",
       "      <th>RV</th>\n",
       "      <th>Return_close</th>\n",
       "      <th>Gold</th>\n",
       "      <th>SP_close</th>\n",
       "      <th>SP_volume</th>\n",
       "      <th>Holiday</th>\n",
       "      <th>weekday</th>\n",
       "    </tr>\n",
       "  </thead>\n",
       "  <tbody>\n",
       "    <tr>\n",
       "      <th>1986-01-02</th>\n",
       "      <td>7.33</td>\n",
       "      <td>7.64</td>\n",
       "      <td>25.56</td>\n",
       "      <td>1.119481</td>\n",
       "      <td>-0.070880</td>\n",
       "      <td>326.30</td>\n",
       "      <td>209.589996</td>\n",
       "      <td>98960000</td>\n",
       "      <td>False</td>\n",
       "      <td>3</td>\n",
       "    </tr>\n",
       "    <tr>\n",
       "      <th>1986-01-03</th>\n",
       "      <td>7.29</td>\n",
       "      <td>7.65</td>\n",
       "      <td>26.00</td>\n",
       "      <td>0.997585</td>\n",
       "      <td>0.659602</td>\n",
       "      <td>326.75</td>\n",
       "      <td>210.880005</td>\n",
       "      <td>105000000</td>\n",
       "      <td>False</td>\n",
       "      <td>4</td>\n",
       "    </tr>\n",
       "    <tr>\n",
       "      <th>1986-01-06</th>\n",
       "      <td>7.29</td>\n",
       "      <td>7.64</td>\n",
       "      <td>26.53</td>\n",
       "      <td>0.757349</td>\n",
       "      <td>0.140779</td>\n",
       "      <td>328.00</td>\n",
       "      <td>210.649994</td>\n",
       "      <td>99610000</td>\n",
       "      <td>False</td>\n",
       "      <td>0</td>\n",
       "    </tr>\n",
       "    <tr>\n",
       "      <th>1986-01-07</th>\n",
       "      <td>7.26</td>\n",
       "      <td>7.59</td>\n",
       "      <td>25.85</td>\n",
       "      <td>0.857932</td>\n",
       "      <td>1.304468</td>\n",
       "      <td>330.00</td>\n",
       "      <td>213.800003</td>\n",
       "      <td>153000000</td>\n",
       "      <td>False</td>\n",
       "      <td>1</td>\n",
       "    </tr>\n",
       "    <tr>\n",
       "      <th>1986-01-08</th>\n",
       "      <td>7.40</td>\n",
       "      <td>7.73</td>\n",
       "      <td>25.87</td>\n",
       "      <td>1.211581</td>\n",
       "      <td>-3.677058</td>\n",
       "      <td>332.60</td>\n",
       "      <td>207.970001</td>\n",
       "      <td>180300000</td>\n",
       "      <td>False</td>\n",
       "      <td>2</td>\n",
       "    </tr>\n",
       "    <tr>\n",
       "      <th>...</th>\n",
       "      <td>...</td>\n",
       "      <td>...</td>\n",
       "      <td>...</td>\n",
       "      <td>...</td>\n",
       "      <td>...</td>\n",
       "      <td>...</td>\n",
       "      <td>...</td>\n",
       "      <td>...</td>\n",
       "      <td>...</td>\n",
       "      <td>...</td>\n",
       "    </tr>\n",
       "    <tr>\n",
       "      <th>2009-01-29</th>\n",
       "      <td>0.23</td>\n",
       "      <td>0.51</td>\n",
       "      <td>41.58</td>\n",
       "      <td>2.280117</td>\n",
       "      <td>-3.384220</td>\n",
       "      <td>892.25</td>\n",
       "      <td>845.140015</td>\n",
       "      <td>5067060000</td>\n",
       "      <td>False</td>\n",
       "      <td>3</td>\n",
       "    </tr>\n",
       "    <tr>\n",
       "      <th>2009-01-30</th>\n",
       "      <td>0.24</td>\n",
       "      <td>0.51</td>\n",
       "      <td>41.73</td>\n",
       "      <td>2.845552</td>\n",
       "      <td>-1.977889</td>\n",
       "      <td>919.50</td>\n",
       "      <td>825.880005</td>\n",
       "      <td>5350580000</td>\n",
       "      <td>False</td>\n",
       "      <td>4</td>\n",
       "    </tr>\n",
       "    <tr>\n",
       "      <th>2009-02-02</th>\n",
       "      <td>0.27</td>\n",
       "      <td>0.51</td>\n",
       "      <td>41.35</td>\n",
       "      <td>2.594509</td>\n",
       "      <td>-0.546284</td>\n",
       "      <td>918.25</td>\n",
       "      <td>825.440002</td>\n",
       "      <td>5673270000</td>\n",
       "      <td>False</td>\n",
       "      <td>0</td>\n",
       "    </tr>\n",
       "    <tr>\n",
       "      <th>2009-02-03</th>\n",
       "      <td>0.32</td>\n",
       "      <td>0.53</td>\n",
       "      <td>40.87</td>\n",
       "      <td>2.205418</td>\n",
       "      <td>1.209936</td>\n",
       "      <td>904.50</td>\n",
       "      <td>838.510010</td>\n",
       "      <td>5886310000</td>\n",
       "      <td>False</td>\n",
       "      <td>1</td>\n",
       "    </tr>\n",
       "    <tr>\n",
       "      <th>2009-02-04</th>\n",
       "      <td>0.30</td>\n",
       "      <td>0.53</td>\n",
       "      <td>40.27</td>\n",
       "      <td>2.495704</td>\n",
       "      <td>-0.240819</td>\n",
       "      <td>905.00</td>\n",
       "      <td>832.229980</td>\n",
       "      <td>6420450000</td>\n",
       "      <td>False</td>\n",
       "      <td>2</td>\n",
       "    </tr>\n",
       "  </tbody>\n",
       "</table>\n",
       "<p>5712 rows × 10 columns</p>\n",
       "</div>"
      ],
      "text/plain": [
       "            TBill3M  TBill1Y    Oil        RV  Return_close    Gold  \\\n",
       "1986-01-02     7.33     7.64  25.56  1.119481     -0.070880  326.30   \n",
       "1986-01-03     7.29     7.65  26.00  0.997585      0.659602  326.75   \n",
       "1986-01-06     7.29     7.64  26.53  0.757349      0.140779  328.00   \n",
       "1986-01-07     7.26     7.59  25.85  0.857932      1.304468  330.00   \n",
       "1986-01-08     7.40     7.73  25.87  1.211581     -3.677058  332.60   \n",
       "...             ...      ...    ...       ...           ...     ...   \n",
       "2009-01-29     0.23     0.51  41.58  2.280117     -3.384220  892.25   \n",
       "2009-01-30     0.24     0.51  41.73  2.845552     -1.977889  919.50   \n",
       "2009-02-02     0.27     0.51  41.35  2.594509     -0.546284  918.25   \n",
       "2009-02-03     0.32     0.53  40.87  2.205418      1.209936  904.50   \n",
       "2009-02-04     0.30     0.53  40.27  2.495704     -0.240819  905.00   \n",
       "\n",
       "              SP_close   SP_volume  Holiday  weekday  \n",
       "1986-01-02  209.589996    98960000    False        3  \n",
       "1986-01-03  210.880005   105000000    False        4  \n",
       "1986-01-06  210.649994    99610000    False        0  \n",
       "1986-01-07  213.800003   153000000    False        1  \n",
       "1986-01-08  207.970001   180300000    False        2  \n",
       "...                ...         ...      ...      ...  \n",
       "2009-01-29  845.140015  5067060000    False        3  \n",
       "2009-01-30  825.880005  5350580000    False        4  \n",
       "2009-02-02  825.440002  5673270000    False        0  \n",
       "2009-02-03  838.510010  5886310000    False        1  \n",
       "2009-02-04  832.229980  6420450000    False        2  \n",
       "\n",
       "[5712 rows x 10 columns]"
      ]
     },
     "execution_count": 35,
     "metadata": {},
     "output_type": "execute_result"
    }
   ],
   "source": [
    "df"
   ]
  },
  {
   "cell_type": "code",
   "execution_count": 37,
   "id": "b8a704e7-2426-4dd0-ae69-df8b699b20bf",
   "metadata": {
    "tags": []
   },
   "outputs": [
    {
     "data": {
      "text/plain": [
       "<AxesSubplot:>"
      ]
     },
     "execution_count": 37,
     "metadata": {},
     "output_type": "execute_result"
    },
    {
     "data": {
      "image/png": "[encoded data removed]",
      "text/plain": [
       "<Figure size 720x504 with 2 Axes>"
      ]
     },
     "metadata": {
      "needs_background": "light"
     },
     "output_type": "display_data"
    }
   ],
   "source": [
    "# Compute the correlation matrix\n",
    "corr = df.corr()\n",
    "# Generate a mask for the upper triangle\n",
    "mask = np.triu(np.ones_like(corr, dtype=bool))\n",
    "\n",
    "# Set up the matplotlib figure\n",
    "fig, ax = plt.subplots(figsize=(10, 7))\n",
    "# Generate a custom diverging colormap\n",
    "cmap = sns.diverging_palette(230, 20, as_cmap=True)\n",
    "# Draw the heatmap with the mask and correct aspect ratio\n",
    "sns.heatmap(\n",
    "    corr,\n",
    "    mask=mask,\n",
    "    cmap=cmap,\n",
    "    vmax=0.3,\n",
    "    center=0,\n",
    "    square=True,\n",
    "    annot=True,\n",
    "    linewidths=0.5,\n",
    "    cbar_kws={\"shrink\": 0.5},\n",
    ")"
   ]
  },
  {
   "cell_type": "markdown",
   "id": "0178e941-8630-42f7-a7c4-979af049e5dc",
   "metadata": {},
   "source": [
    "<div style=\"text-align:center; font-size:24px\">\n",
    "    <span style=\"color:red\">Could this low correlation be related to variables that are non-stationary in the mean?</span>\n",
    "</div>"
   ]
  },
  {
   "cell_type": "markdown",
   "id": "7aa42d21-d90d-4b05-9377-a6f325cbfd6d",
   "metadata": {},
   "source": [
    "$r_{t} = \\frac{p_t-p_{t-1}}{p_{t-1}}$"
   ]
  },
  {
   "cell_type": "code",
   "execution_count": 38,
   "id": "0353a6ca-4eef-4f2c-87b9-a15c74f26302",
   "metadata": {
    "tags": []
   },
   "outputs": [],
   "source": [
    "col_to_transform = [\"TBill3M\", \"TBill1Y\", \"Oil\", \"Gold\", \"SP_volume\"]\n",
    "for c in col_to_transform:\n",
    "    df[\"{}_ret\".format(c)] = df[c].pct_change(1) * 100\n",
    "\n",
    "df = df.dropna()"
   ]
  },
  {
   "cell_type": "code",
   "execution_count": 41,
   "id": "f1d95f19-cad8-4ddf-ad46-57d4234f0e54",
   "metadata": {},
   "outputs": [
    {
     "data": {
      "text/plain": [
       "<AxesSubplot:>"
      ]
     },
     "execution_count": 41,
     "metadata": {},
     "output_type": "execute_result"
    },
    {
     "data": {
      "image/png": "[encoded data removed]",
      "text/plain": [
       "<Figure size 432x288 with 1 Axes>"
      ]
     },
     "metadata": {
      "needs_background": "light"
     },
     "output_type": "display_data"
    }
   ],
   "source": [
    "df.iloc[:4000]['TBill3M_ret'].plot()"
   ]
  },
  {
   "cell_type": "code",
   "execution_count": null,
   "id": "4350be2a-06ba-49ab-a04b-0a09390594b4",
   "metadata": {
    "tags": []
   },
   "outputs": [],
   "source": [
    "# Compute the correlation matrix\n",
    "corr = df.corr()\n",
    "\n",
    "# Set up the matplotlib figure\n",
    "fig, ax = plt.subplots(figsize=(15, 10))\n",
    "# Generate a custom diverging colormap\n",
    "cmap = sns.diverging_palette(230, 20, as_cmap=True)\n",
    "# Draw the heatmap with the mask and correct aspect ratio\n",
    "sns.heatmap(\n",
    "    corr,\n",
    "    cmap=cmap,\n",
    "    vmax=0.3,\n",
    "    center=0,\n",
    "    square=True,\n",
    "    annot=True,\n",
    "    linewidths=0.5,\n",
    "    cbar_kws={\"shrink\": 0.5},\n",
    ")"
   ]
  },
  {
   "cell_type": "code",
   "execution_count": null,
   "id": "2985127e-ba06-4a23-aac7-06190a65f116",
   "metadata": {
    "tags": []
   },
   "outputs": [],
   "source": [
    "# Define predictor variables and the response variable\n",
    "X = df[[\"RV\", \"TBill1Y_ret\"]]\n",
    "y = df[\"Return_close\"]\n",
    "\n",
    "# Add a constant to the predictor variables\n",
    "X = sm.add_constant(X)\n",
    "\n",
    "# Build the model\n",
    "model = sm.OLS(y, X)\n",
    "\n",
    "# Fit the model\n",
    "results = model.fit()\n",
    "\n",
    "# Print a summary of the results\n",
    "print(results.summary())"
   ]
  },
  {
   "cell_type": "markdown",
   "id": "2fa81970-c72d-4c3a-8331-d8fcee6d35d1",
   "metadata": {},
   "source": [
    "## Autoregressive Components\n",
    "\n",
    "<div style=\"text-align:center; font-size:24px\">\n",
    "    <span style=\"color:red\">What about including an autoregressive component to the model?</span>\n",
    "</div>\n"
   ]
  },
  {
   "cell_type": "code",
   "execution_count": 42,
   "id": "8ead4ca7-1f73-4c4e-89f0-c14d251223fb",
   "metadata": {},
   "outputs": [
    {
     "data": {
      "text/html": [
       "<div>\n",
       "<style scoped>\n",
       "    .dataframe tbody tr th:only-of-type {\n",
       "        vertical-align: middle;\n",
       "    }\n",
       "\n",
       "    .dataframe tbody tr th {\n",
       "        vertical-align: top;\n",
       "    }\n",
       "\n",
       "    .dataframe thead th {\n",
       "        text-align: right;\n",
       "    }\n",
       "</style>\n",
       "<table border=\"1\" class=\"dataframe\">\n",
       "  <thead>\n",
       "    <tr style=\"text-align: right;\">\n",
       "      <th></th>\n",
       "      <th>TBill3M</th>\n",
       "      <th>TBill1Y</th>\n",
       "      <th>Oil</th>\n",
       "      <th>RV</th>\n",
       "      <th>Return_close</th>\n",
       "      <th>Gold</th>\n",
       "      <th>SP_close</th>\n",
       "      <th>SP_volume</th>\n",
       "      <th>Holiday</th>\n",
       "      <th>weekday</th>\n",
       "      <th>TBill3M_ret</th>\n",
       "      <th>TBill1Y_ret</th>\n",
       "      <th>Oil_ret</th>\n",
       "      <th>Gold_ret</th>\n",
       "      <th>SP_volume_ret</th>\n",
       "    </tr>\n",
       "  </thead>\n",
       "  <tbody>\n",
       "    <tr>\n",
       "      <th>1986-01-03</th>\n",
       "      <td>7.29</td>\n",
       "      <td>7.65</td>\n",
       "      <td>26.00</td>\n",
       "      <td>0.997585</td>\n",
       "      <td>0.659602</td>\n",
       "      <td>326.75</td>\n",
       "      <td>210.880005</td>\n",
       "      <td>105000000</td>\n",
       "      <td>False</td>\n",
       "      <td>4</td>\n",
       "      <td>-0.545703</td>\n",
       "      <td>0.130890</td>\n",
       "      <td>1.721440</td>\n",
       "      <td>0.137910</td>\n",
       "      <td>6.103476</td>\n",
       "    </tr>\n",
       "    <tr>\n",
       "      <th>1986-01-06</th>\n",
       "      <td>7.29</td>\n",
       "      <td>7.64</td>\n",
       "      <td>26.53</td>\n",
       "      <td>0.757349</td>\n",
       "      <td>0.140779</td>\n",
       "      <td>328.00</td>\n",
       "      <td>210.649994</td>\n",
       "      <td>99610000</td>\n",
       "      <td>False</td>\n",
       "      <td>0</td>\n",
       "      <td>0.000000</td>\n",
       "      <td>-0.130719</td>\n",
       "      <td>2.038462</td>\n",
       "      <td>0.382555</td>\n",
       "      <td>-5.133333</td>\n",
       "    </tr>\n",
       "    <tr>\n",
       "      <th>1986-01-07</th>\n",
       "      <td>7.26</td>\n",
       "      <td>7.59</td>\n",
       "      <td>25.85</td>\n",
       "      <td>0.857932</td>\n",
       "      <td>1.304468</td>\n",
       "      <td>330.00</td>\n",
       "      <td>213.800003</td>\n",
       "      <td>153000000</td>\n",
       "      <td>False</td>\n",
       "      <td>1</td>\n",
       "      <td>-0.411523</td>\n",
       "      <td>-0.654450</td>\n",
       "      <td>-2.563136</td>\n",
       "      <td>0.609756</td>\n",
       "      <td>53.599036</td>\n",
       "    </tr>\n",
       "    <tr>\n",
       "      <th>1986-01-08</th>\n",
       "      <td>7.40</td>\n",
       "      <td>7.73</td>\n",
       "      <td>25.87</td>\n",
       "      <td>1.211581</td>\n",
       "      <td>-3.677058</td>\n",
       "      <td>332.60</td>\n",
       "      <td>207.970001</td>\n",
       "      <td>180300000</td>\n",
       "      <td>False</td>\n",
       "      <td>2</td>\n",
       "      <td>1.928375</td>\n",
       "      <td>1.844532</td>\n",
       "      <td>0.077369</td>\n",
       "      <td>0.787879</td>\n",
       "      <td>17.843137</td>\n",
       "    </tr>\n",
       "    <tr>\n",
       "      <th>1986-01-09</th>\n",
       "      <td>7.41</td>\n",
       "      <td>7.83</td>\n",
       "      <td>26.03</td>\n",
       "      <td>1.614507</td>\n",
       "      <td>-0.674539</td>\n",
       "      <td>333.50</td>\n",
       "      <td>206.110001</td>\n",
       "      <td>176500000</td>\n",
       "      <td>False</td>\n",
       "      <td>3</td>\n",
       "      <td>0.135135</td>\n",
       "      <td>1.293661</td>\n",
       "      <td>0.618477</td>\n",
       "      <td>0.270595</td>\n",
       "      <td>-2.107598</td>\n",
       "    </tr>\n",
       "    <tr>\n",
       "      <th>...</th>\n",
       "      <td>...</td>\n",
       "      <td>...</td>\n",
       "      <td>...</td>\n",
       "      <td>...</td>\n",
       "      <td>...</td>\n",
       "      <td>...</td>\n",
       "      <td>...</td>\n",
       "      <td>...</td>\n",
       "      <td>...</td>\n",
       "      <td>...</td>\n",
       "      <td>...</td>\n",
       "      <td>...</td>\n",
       "      <td>...</td>\n",
       "      <td>...</td>\n",
       "      <td>...</td>\n",
       "    </tr>\n",
       "    <tr>\n",
       "      <th>2009-01-29</th>\n",
       "      <td>0.23</td>\n",
       "      <td>0.51</td>\n",
       "      <td>41.58</td>\n",
       "      <td>2.280117</td>\n",
       "      <td>-3.384220</td>\n",
       "      <td>892.25</td>\n",
       "      <td>845.140015</td>\n",
       "      <td>5067060000</td>\n",
       "      <td>False</td>\n",
       "      <td>3</td>\n",
       "      <td>21.052632</td>\n",
       "      <td>6.250000</td>\n",
       "      <td>-1.094196</td>\n",
       "      <td>-0.335102</td>\n",
       "      <td>-18.262415</td>\n",
       "    </tr>\n",
       "    <tr>\n",
       "      <th>2009-01-30</th>\n",
       "      <td>0.24</td>\n",
       "      <td>0.51</td>\n",
       "      <td>41.73</td>\n",
       "      <td>2.845552</td>\n",
       "      <td>-1.977889</td>\n",
       "      <td>919.50</td>\n",
       "      <td>825.880005</td>\n",
       "      <td>5350580000</td>\n",
       "      <td>False</td>\n",
       "      <td>4</td>\n",
       "      <td>4.347826</td>\n",
       "      <td>0.000000</td>\n",
       "      <td>0.360750</td>\n",
       "      <td>3.054077</td>\n",
       "      <td>5.595355</td>\n",
       "    </tr>\n",
       "    <tr>\n",
       "      <th>2009-02-02</th>\n",
       "      <td>0.27</td>\n",
       "      <td>0.51</td>\n",
       "      <td>41.35</td>\n",
       "      <td>2.594509</td>\n",
       "      <td>-0.546284</td>\n",
       "      <td>918.25</td>\n",
       "      <td>825.440002</td>\n",
       "      <td>5673270000</td>\n",
       "      <td>False</td>\n",
       "      <td>0</td>\n",
       "      <td>12.500000</td>\n",
       "      <td>0.000000</td>\n",
       "      <td>-0.910616</td>\n",
       "      <td>-0.135943</td>\n",
       "      <td>6.030935</td>\n",
       "    </tr>\n",
       "    <tr>\n",
       "      <th>2009-02-03</th>\n",
       "      <td>0.32</td>\n",
       "      <td>0.53</td>\n",
       "      <td>40.87</td>\n",
       "      <td>2.205418</td>\n",
       "      <td>1.209936</td>\n",
       "      <td>904.50</td>\n",
       "      <td>838.510010</td>\n",
       "      <td>5886310000</td>\n",
       "      <td>False</td>\n",
       "      <td>1</td>\n",
       "      <td>18.518519</td>\n",
       "      <td>3.921569</td>\n",
       "      <td>-1.160822</td>\n",
       "      <td>-1.497414</td>\n",
       "      <td>3.755154</td>\n",
       "    </tr>\n",
       "    <tr>\n",
       "      <th>2009-02-04</th>\n",
       "      <td>0.30</td>\n",
       "      <td>0.53</td>\n",
       "      <td>40.27</td>\n",
       "      <td>2.495704</td>\n",
       "      <td>-0.240819</td>\n",
       "      <td>905.00</td>\n",
       "      <td>832.229980</td>\n",
       "      <td>6420450000</td>\n",
       "      <td>False</td>\n",
       "      <td>2</td>\n",
       "      <td>-6.250000</td>\n",
       "      <td>0.000000</td>\n",
       "      <td>-1.468069</td>\n",
       "      <td>0.055279</td>\n",
       "      <td>9.074276</td>\n",
       "    </tr>\n",
       "  </tbody>\n",
       "</table>\n",
       "<p>5711 rows × 15 columns</p>\n",
       "</div>"
      ],
      "text/plain": [
       "            TBill3M  TBill1Y    Oil        RV  Return_close    Gold  \\\n",
       "1986-01-03     7.29     7.65  26.00  0.997585      0.659602  326.75   \n",
       "1986-01-06     7.29     7.64  26.53  0.757349      0.140779  328.00   \n",
       "1986-01-07     7.26     7.59  25.85  0.857932      1.304468  330.00   \n",
       "1986-01-08     7.40     7.73  25.87  1.211581     -3.677058  332.60   \n",
       "1986-01-09     7.41     7.83  26.03  1.614507     -0.674539  333.50   \n",
       "...             ...      ...    ...       ...           ...     ...   \n",
       "2009-01-29     0.23     0.51  41.58  2.280117     -3.384220  892.25   \n",
       "2009-01-30     0.24     0.51  41.73  2.845552     -1.977889  919.50   \n",
       "2009-02-02     0.27     0.51  41.35  2.594509     -0.546284  918.25   \n",
       "2009-02-03     0.32     0.53  40.87  2.205418      1.209936  904.50   \n",
       "2009-02-04     0.30     0.53  40.27  2.495704     -0.240819  905.00   \n",
       "\n",
       "              SP_close   SP_volume  Holiday  weekday  TBill3M_ret  \\\n",
       "1986-01-03  210.880005   105000000    False        4    -0.545703   \n",
       "1986-01-06  210.649994    99610000    False        0     0.000000   \n",
       "1986-01-07  213.800003   153000000    False        1    -0.411523   \n",
       "1986-01-08  207.970001   180300000    False        2     1.928375   \n",
       "1986-01-09  206.110001   176500000    False        3     0.135135   \n",
       "...                ...         ...      ...      ...          ...   \n",
       "2009-01-29  845.140015  5067060000    False        3    21.052632   \n",
       "2009-01-30  825.880005  5350580000    False        4     4.347826   \n",
       "2009-02-02  825.440002  5673270000    False        0    12.500000   \n",
       "2009-02-03  838.510010  5886310000    False        1    18.518519   \n",
       "2009-02-04  832.229980  6420450000    False        2    -6.250000   \n",
       "\n",
       "            TBill1Y_ret   Oil_ret  Gold_ret  SP_volume_ret  \n",
       "1986-01-03     0.130890  1.721440  0.137910       6.103476  \n",
       "1986-01-06    -0.130719  2.038462  0.382555      -5.133333  \n",
       "1986-01-07    -0.654450 -2.563136  0.609756      53.599036  \n",
       "1986-01-08     1.844532  0.077369  0.787879      17.843137  \n",
       "1986-01-09     1.293661  0.618477  0.270595      -2.107598  \n",
       "...                 ...       ...       ...            ...  \n",
       "2009-01-29     6.250000 -1.094196 -0.335102     -18.262415  \n",
       "2009-01-30     0.000000  0.360750  3.054077       5.595355  \n",
       "2009-02-02     0.000000 -0.910616 -0.135943       6.030935  \n",
       "2009-02-03     3.921569 -1.160822 -1.497414       3.755154  \n",
       "2009-02-04     0.000000 -1.468069  0.055279       9.074276  \n",
       "\n",
       "[5711 rows x 15 columns]"
      ]
     },
     "execution_count": 42,
     "metadata": {},
     "output_type": "execute_result"
    }
   ],
   "source": [
    "df"
   ]
  },
  {
   "cell_type": "code",
   "execution_count": null,
   "id": "8e57f369-409b-4dcf-9a96-084eab95a99e",
   "metadata": {
    "tags": []
   },
   "outputs": [],
   "source": [
    "def add_lags(df, columns, n_lags=1):\n",
    "    \"\"\"\n",
    "    Add lags to specific columns in a DataFrame.\n",
    "\n",
    "    Parameters:\n",
    "    - df (DataFrame): Original DataFrame.\n",
    "    - columns (list): List of column names for which to create lags.\n",
    "    - n_lags (int): Number of lags to create for each column.\n",
    "\n",
    "    Returns:\n",
    "    - DataFrame: Updated DataFrame with lag columns.\n",
    "    \"\"\"\n",
    "    df_copy = df.copy()\n",
    "    for column in columns:\n",
    "        for lag in range(1, n_lags + 1):\n",
    "            df_copy.loc[:,f\"{column}_lag{lag}\"] = df_copy.loc[:,column].shift(lag)\n",
    "    return df_copy"
   ]
  },
  {
   "cell_type": "code",
   "execution_count": 49,
   "id": "2cd30758-9857-44a2-bb55-b096eae17a0d",
   "metadata": {},
   "outputs": [
    {
     "data": {
      "text/html": [
       "<div>\n",
       "<style scoped>\n",
       "    .dataframe tbody tr th:only-of-type {\n",
       "        vertical-align: middle;\n",
       "    }\n",
       "\n",
       "    .dataframe tbody tr th {\n",
       "        vertical-align: top;\n",
       "    }\n",
       "\n",
       "    .dataframe thead th {\n",
       "        text-align: right;\n",
       "    }\n",
       "</style>\n",
       "<table border=\"1\" class=\"dataframe\">\n",
       "  <thead>\n",
       "    <tr style=\"text-align: right;\">\n",
       "      <th></th>\n",
       "      <th>TBill3M_ret</th>\n",
       "      <th>TBill1Y_ret</th>\n",
       "      <th>Oil_ret</th>\n",
       "      <th>Gold_ret</th>\n",
       "      <th>SP_volume_ret</th>\n",
       "      <th>RV</th>\n",
       "      <th>Return_close</th>\n",
       "    </tr>\n",
       "  </thead>\n",
       "  <tbody>\n",
       "    <tr>\n",
       "      <th>1986-01-03</th>\n",
       "      <td>-0.545703</td>\n",
       "      <td>0.130890</td>\n",
       "      <td>1.721440</td>\n",
       "      <td>0.137910</td>\n",
       "      <td>6.103476</td>\n",
       "      <td>0.997585</td>\n",
       "      <td>0.659602</td>\n",
       "    </tr>\n",
       "    <tr>\n",
       "      <th>1986-01-06</th>\n",
       "      <td>0.000000</td>\n",
       "      <td>-0.130719</td>\n",
       "      <td>2.038462</td>\n",
       "      <td>0.382555</td>\n",
       "      <td>-5.133333</td>\n",
       "      <td>0.757349</td>\n",
       "      <td>0.140779</td>\n",
       "    </tr>\n",
       "    <tr>\n",
       "      <th>1986-01-07</th>\n",
       "      <td>-0.411523</td>\n",
       "      <td>-0.654450</td>\n",
       "      <td>-2.563136</td>\n",
       "      <td>0.609756</td>\n",
       "      <td>53.599036</td>\n",
       "      <td>0.857932</td>\n",
       "      <td>1.304468</td>\n",
       "    </tr>\n",
       "    <tr>\n",
       "      <th>1986-01-08</th>\n",
       "      <td>1.928375</td>\n",
       "      <td>1.844532</td>\n",
       "      <td>0.077369</td>\n",
       "      <td>0.787879</td>\n",
       "      <td>17.843137</td>\n",
       "      <td>1.211581</td>\n",
       "      <td>-3.677058</td>\n",
       "    </tr>\n",
       "    <tr>\n",
       "      <th>1986-01-09</th>\n",
       "      <td>0.135135</td>\n",
       "      <td>1.293661</td>\n",
       "      <td>0.618477</td>\n",
       "      <td>0.270595</td>\n",
       "      <td>-2.107598</td>\n",
       "      <td>1.614507</td>\n",
       "      <td>-0.674539</td>\n",
       "    </tr>\n",
       "    <tr>\n",
       "      <th>...</th>\n",
       "      <td>...</td>\n",
       "      <td>...</td>\n",
       "      <td>...</td>\n",
       "      <td>...</td>\n",
       "      <td>...</td>\n",
       "      <td>...</td>\n",
       "      <td>...</td>\n",
       "    </tr>\n",
       "    <tr>\n",
       "      <th>2009-01-29</th>\n",
       "      <td>21.052632</td>\n",
       "      <td>6.250000</td>\n",
       "      <td>-1.094196</td>\n",
       "      <td>-0.335102</td>\n",
       "      <td>-18.262415</td>\n",
       "      <td>2.280117</td>\n",
       "      <td>-3.384220</td>\n",
       "    </tr>\n",
       "    <tr>\n",
       "      <th>2009-01-30</th>\n",
       "      <td>4.347826</td>\n",
       "      <td>0.000000</td>\n",
       "      <td>0.360750</td>\n",
       "      <td>3.054077</td>\n",
       "      <td>5.595355</td>\n",
       "      <td>2.845552</td>\n",
       "      <td>-1.977889</td>\n",
       "    </tr>\n",
       "    <tr>\n",
       "      <th>2009-02-02</th>\n",
       "      <td>12.500000</td>\n",
       "      <td>0.000000</td>\n",
       "      <td>-0.910616</td>\n",
       "      <td>-0.135943</td>\n",
       "      <td>6.030935</td>\n",
       "      <td>2.594509</td>\n",
       "      <td>-0.546284</td>\n",
       "    </tr>\n",
       "    <tr>\n",
       "      <th>2009-02-03</th>\n",
       "      <td>18.518519</td>\n",
       "      <td>3.921569</td>\n",
       "      <td>-1.160822</td>\n",
       "      <td>-1.497414</td>\n",
       "      <td>3.755154</td>\n",
       "      <td>2.205418</td>\n",
       "      <td>1.209936</td>\n",
       "    </tr>\n",
       "    <tr>\n",
       "      <th>2009-02-04</th>\n",
       "      <td>-6.250000</td>\n",
       "      <td>0.000000</td>\n",
       "      <td>-1.468069</td>\n",
       "      <td>0.055279</td>\n",
       "      <td>9.074276</td>\n",
       "      <td>2.495704</td>\n",
       "      <td>-0.240819</td>\n",
       "    </tr>\n",
       "  </tbody>\n",
       "</table>\n",
       "<p>5711 rows × 7 columns</p>\n",
       "</div>"
      ],
      "text/plain": [
       "            TBill3M_ret  TBill1Y_ret   Oil_ret  Gold_ret  SP_volume_ret  \\\n",
       "1986-01-03    -0.545703     0.130890  1.721440  0.137910       6.103476   \n",
       "1986-01-06     0.000000    -0.130719  2.038462  0.382555      -5.133333   \n",
       "1986-01-07    -0.411523    -0.654450 -2.563136  0.609756      53.599036   \n",
       "1986-01-08     1.928375     1.844532  0.077369  0.787879      17.843137   \n",
       "1986-01-09     0.135135     1.293661  0.618477  0.270595      -2.107598   \n",
       "...                 ...          ...       ...       ...            ...   \n",
       "2009-01-29    21.052632     6.250000 -1.094196 -0.335102     -18.262415   \n",
       "2009-01-30     4.347826     0.000000  0.360750  3.054077       5.595355   \n",
       "2009-02-02    12.500000     0.000000 -0.910616 -0.135943       6.030935   \n",
       "2009-02-03    18.518519     3.921569 -1.160822 -1.497414       3.755154   \n",
       "2009-02-04    -6.250000     0.000000 -1.468069  0.055279       9.074276   \n",
       "\n",
       "                  RV  Return_close  \n",
       "1986-01-03  0.997585      0.659602  \n",
       "1986-01-06  0.757349      0.140779  \n",
       "1986-01-07  0.857932      1.304468  \n",
       "1986-01-08  1.211581     -3.677058  \n",
       "1986-01-09  1.614507     -0.674539  \n",
       "...              ...           ...  \n",
       "2009-01-29  2.280117     -3.384220  \n",
       "2009-01-30  2.845552     -1.977889  \n",
       "2009-02-02  2.594509     -0.546284  \n",
       "2009-02-03  2.205418      1.209936  \n",
       "2009-02-04  2.495704     -0.240819  \n",
       "\n",
       "[5711 rows x 7 columns]"
      ]
     },
     "execution_count": 49,
     "metadata": {},
     "output_type": "execute_result"
    }
   ],
   "source": [
    "df[['TBill3M_ret', 'TBill1Y_ret',\n",
    "       'Oil_ret', 'Gold_ret', 'SP_volume_ret','RV', 'Return_close']]"
   ]
  },
  {
   "cell_type": "code",
   "execution_count": 56,
   "id": "50c17d58-dba6-4e61-9b37-e26cce74b9f2",
   "metadata": {},
   "outputs": [
    {
     "name": "stderr",
     "output_type": "stream",
     "text": [
      "/tmp/ipykernel_2574/4095572008.py:1: SettingWithCopyWarning: \n",
      "A value is trying to be set on a copy of a slice from a DataFrame.\n",
      "Try using .loc[row_indexer,col_indexer] = value instead\n",
      "\n",
      "See the caveats in the documentation: https://pandas.pydata.org/pandas-docs/stable/user_guide/indexing.html#returning-a-view-versus-a-copy\n",
      "  df['Return_close_t-5'] = df['Return_close'].shift(5)\n"
     ]
    }
   ],
   "source": [
    "df['Return_close_t-5'] = df['Return_close'].shift(5)"
   ]
  },
  {
   "cell_type": "code",
   "execution_count": 59,
   "id": "45e519d7-333c-4e25-89bb-ca0ec32ec348",
   "metadata": {},
   "outputs": [
    {
     "data": {
      "text/html": [
       "<div>\n",
       "<style scoped>\n",
       "    .dataframe tbody tr th:only-of-type {\n",
       "        vertical-align: middle;\n",
       "    }\n",
       "\n",
       "    .dataframe tbody tr th {\n",
       "        vertical-align: top;\n",
       "    }\n",
       "\n",
       "    .dataframe thead th {\n",
       "        text-align: right;\n",
       "    }\n",
       "</style>\n",
       "<table border=\"1\" class=\"dataframe\">\n",
       "  <thead>\n",
       "    <tr style=\"text-align: right;\">\n",
       "      <th></th>\n",
       "      <th>TBill3M_ret</th>\n",
       "      <th>TBill1Y_ret</th>\n",
       "      <th>Oil_ret</th>\n",
       "      <th>Gold_ret</th>\n",
       "      <th>SP_volume_ret</th>\n",
       "      <th>RV</th>\n",
       "      <th>Return_close</th>\n",
       "      <th>Return_close_t-5</th>\n",
       "      <th>Return_close_t+1</th>\n",
       "    </tr>\n",
       "  </thead>\n",
       "  <tbody>\n",
       "    <tr>\n",
       "      <th>1986-01-10</th>\n",
       "      <td>0.404858</td>\n",
       "      <td>0.766284</td>\n",
       "      <td>-1.459854</td>\n",
       "      <td>2.083958</td>\n",
       "      <td>-30.424929</td>\n",
       "      <td>1.111899</td>\n",
       "      <td>-0.242014</td>\n",
       "      <td>0.659602</td>\n",
       "      <td>0.507554</td>\n",
       "    </tr>\n",
       "    <tr>\n",
       "      <th>1986-01-13</th>\n",
       "      <td>0.537634</td>\n",
       "      <td>0.760456</td>\n",
       "      <td>-2.222222</td>\n",
       "      <td>-0.308415</td>\n",
       "      <td>-11.482085</td>\n",
       "      <td>1.300182</td>\n",
       "      <td>0.507554</td>\n",
       "      <td>0.140779</td>\n",
       "      <td>-0.096479</td>\n",
       "    </tr>\n",
       "    <tr>\n",
       "      <th>1986-01-14</th>\n",
       "      <td>0.000000</td>\n",
       "      <td>-0.251572</td>\n",
       "      <td>-0.438596</td>\n",
       "      <td>0.471420</td>\n",
       "      <td>4.783809</td>\n",
       "      <td>1.020525</td>\n",
       "      <td>-0.096479</td>\n",
       "      <td>1.304468</td>\n",
       "      <td>0.841048</td>\n",
       "    </tr>\n",
       "    <tr>\n",
       "      <th>1986-01-15</th>\n",
       "      <td>-0.802139</td>\n",
       "      <td>-1.008827</td>\n",
       "      <td>0.841009</td>\n",
       "      <td>1.686217</td>\n",
       "      <td>7.462687</td>\n",
       "      <td>1.259361</td>\n",
       "      <td>0.841048</td>\n",
       "      <td>-3.677058</td>\n",
       "      <td>0.382136</td>\n",
       "    </tr>\n",
       "    <tr>\n",
       "      <th>1986-01-16</th>\n",
       "      <td>-1.482480</td>\n",
       "      <td>-0.764331</td>\n",
       "      <td>-4.765687</td>\n",
       "      <td>4.686373</td>\n",
       "      <td>6.617647</td>\n",
       "      <td>1.046429</td>\n",
       "      <td>0.382136</td>\n",
       "      <td>-0.674539</td>\n",
       "      <td>-0.789761</td>\n",
       "    </tr>\n",
       "  </tbody>\n",
       "</table>\n",
       "</div>"
      ],
      "text/plain": [
       "            TBill3M_ret  TBill1Y_ret   Oil_ret  Gold_ret  SP_volume_ret  \\\n",
       "1986-01-10     0.404858     0.766284 -1.459854  2.083958     -30.424929   \n",
       "1986-01-13     0.537634     0.760456 -2.222222 -0.308415     -11.482085   \n",
       "1986-01-14     0.000000    -0.251572 -0.438596  0.471420       4.783809   \n",
       "1986-01-15    -0.802139    -1.008827  0.841009  1.686217       7.462687   \n",
       "1986-01-16    -1.482480    -0.764331 -4.765687  4.686373       6.617647   \n",
       "\n",
       "                  RV  Return_close  Return_close_t-5  Return_close_t+1  \n",
       "1986-01-10  1.111899     -0.242014          0.659602          0.507554  \n",
       "1986-01-13  1.300182      0.507554          0.140779         -0.096479  \n",
       "1986-01-14  1.020525     -0.096479          1.304468          0.841048  \n",
       "1986-01-15  1.259361      0.841048         -3.677058          0.382136  \n",
       "1986-01-16  1.046429      0.382136         -0.674539         -0.789761  "
      ]
     },
     "execution_count": 59,
     "metadata": {},
     "output_type": "execute_result"
    }
   ],
   "source": [
    "df[['TBill3M_ret', 'TBill1Y_ret',\n",
    "       'Oil_ret', 'Gold_ret', 'SP_volume_ret','RV', 'Return_close','Return_close_t-5','Return_close_t+1']].head(10).dropna()"
   ]
  },
  {
   "cell_type": "code",
   "execution_count": 50,
   "id": "8bda8711-4b70-4e90-9e89-240b97fbf164",
   "metadata": {},
   "outputs": [
    {
     "data": {
      "text/plain": [
       "1986-01-03    0.140779\n",
       "1986-01-06    1.304468\n",
       "1986-01-07   -3.677058\n",
       "1986-01-08   -0.674539\n",
       "1986-01-09   -0.242014\n",
       "                ...   \n",
       "2009-01-29   -1.977889\n",
       "2009-01-30   -0.546284\n",
       "2009-02-02    1.209936\n",
       "2009-02-03   -0.240819\n",
       "2009-02-04         NaN\n",
       "Name: Return_close, Length: 5711, dtype: float64"
      ]
     },
     "execution_count": 50,
     "metadata": {},
     "output_type": "execute_result"
    }
   ],
   "source": [
    "df['Return_close'].shift(-1)"
   ]
  },
  {
   "cell_type": "code",
   "execution_count": 44,
   "id": "5150c70b-86dc-4f3c-bdf7-0adf115d9b43",
   "metadata": {},
   "outputs": [
    {
     "data": {
      "text/plain": [
       "1986-01-03         NaN\n",
       "1986-01-06         NaN\n",
       "1986-01-07         NaN\n",
       "1986-01-08    0.659602\n",
       "1986-01-09    0.140779\n",
       "                ...   \n",
       "2009-01-29    0.869991\n",
       "2009-01-30    0.993604\n",
       "2009-02-02    3.740939\n",
       "2009-02-03   -3.384220\n",
       "2009-02-04   -1.977889\n",
       "Name: Return_close, Length: 5711, dtype: float64"
      ]
     },
     "execution_count": 44,
     "metadata": {},
     "output_type": "execute_result"
    }
   ],
   "source": [
    "df['Return_close'].shift(3)"
   ]
  },
  {
   "cell_type": "code",
   "execution_count": null,
   "id": "2fae20b7-5070-430f-a14c-9cba7ee85e95",
   "metadata": {
    "tags": []
   },
   "outputs": [],
   "source": [
    "df = add_lags(df, [\"Return_close\"], n_lags=3)"
   ]
  },
  {
   "cell_type": "code",
   "execution_count": null,
   "id": "5a0a442e-076b-4bd9-9a2c-7104fdf68cd0",
   "metadata": {
    "tags": []
   },
   "outputs": [],
   "source": [
    "df.head()"
   ]
  },
  {
   "cell_type": "code",
   "execution_count": null,
   "id": "6426fd41-fe9f-4a8a-9c5f-a20410d36d2d",
   "metadata": {
    "tags": []
   },
   "outputs": [],
   "source": [
    "df = df.dropna()"
   ]
  },
  {
   "cell_type": "code",
   "execution_count": null,
   "id": "033ad49d-0049-4ae9-98d6-df884b0d47d6",
   "metadata": {
    "tags": []
   },
   "outputs": [],
   "source": [
    "df = df.replace([np.inf, -np.inf], 0)"
   ]
  },
  {
   "cell_type": "code",
   "execution_count": null,
   "id": "646bffa0-ef26-4932-bb50-6d466cf5fe27",
   "metadata": {
    "tags": []
   },
   "outputs": [],
   "source": [
    "X_cols = [\n",
    "    \"RV\",\n",
    "    \"TBill1Y_ret\",\n",
    "    \"Return_close_lag1\",\n",
    "    \"Return_close_lag2\",\n",
    "    \"Return_close_lag3\",\n",
    "]\n",
    "X = df[X_cols]\n",
    "y = df[\"Return_close\"]\n",
    "\n",
    "X = sm.add_constant(X)\n",
    "\n",
    "model = sm.OLS(y, X)\n",
    "results = model.fit()\n",
    "\n",
    "print(results.summary())"
   ]
  },
  {
   "cell_type": "code",
   "execution_count": null,
   "id": "b30f3d9f-392c-4c67-91ee-8ebc695ddd13",
   "metadata": {
    "tags": []
   },
   "outputs": [],
   "source": [
    "X_cols = [\"RV\", \"TBill1Y_ret\", \"Return_close_lag1\", \"Return_close_lag2\"]\n",
    "X = df[X_cols]\n",
    "y = df[\"Return_close\"]\n",
    "\n",
    "X = sm.add_constant(X)\n",
    "\n",
    "model = sm.OLS(y, X)\n",
    "results = model.fit()\n",
    "\n",
    "print(results.summary())"
   ]
  },
  {
   "cell_type": "code",
   "execution_count": 65,
   "id": "79a75675-80be-43ee-86b1-c0c842376490",
   "metadata": {},
   "outputs": [
    {
     "data": {
      "text/plain": [
       "<AxesSubplot:>"
      ]
     },
     "execution_count": 65,
     "metadata": {},
     "output_type": "execute_result"
    },
    {
     "data": {
      "image/png": "[encoded data removed]",
      "text/plain": [
       "<Figure size 432x288 with 1 Axes>"
      ]
     },
     "metadata": {
      "needs_background": "light"
     },
     "output_type": "display_data"
    }
   ],
   "source": [
    "df['Oil'].plot()"
   ]
  },
  {
   "cell_type": "markdown",
   "id": "0e355285-6a98-4b6b-a049-4482cea15c49",
   "metadata": {},
   "source": [
    "# Ridge Regression\n",
    "\n",
    "Ridge Regression is a technique used when the data suffers from multicollinearity (independent variables are highly correlated). By adding a degree of bias to the regression estimates, Ridge Regression reduces the standard errors. \n",
    "\n",
    "This technique works by adding a \"squared magnitude\" of coefficient as penalty term to the loss function. \n",
    "\n",
    "**Ridge Regression** aims to minimize the following objective function:\n",
    "\n",
    "$$L(\\beta) = ||Y - X\\beta||^2 + \\lambda||\\beta||^2 $$\n",
    "\n",
    "where:\n",
    "- $Y$ is the response variable.\n",
    "- $X$ is the design matrix.\n",
    "- $\\beta$  is the vector of coefficients.\n",
    "- $\\lambda$ is the Ridge regularization parameter.\n",
    "\n",
    "The term $\\lambda||\\beta||^2$ is the L2 penalty term that \"penalizes\" the size of the coefficients. While $\\lambda$ can take any value between 0 and $\\infty$, note that:\n",
    "- When $\\lambda = 0$, Ridge Regression will produce the same coefficients as a simple linear regression.\n",
    "- When $\\lambda = \\infty$, all coefficients will be zero because of infinite penalty.\n",
    "- When $0 < \\lambda < \\infty$, the magnitude of $\\lambda$ will decide the value of coefficients.\n",
    "\n",
    "**Differences in Optimization Compared to OLS**:\n",
    "\n",
    "Ordinary Least Squares (OLS) aims to minimize just the residual sum of squares:\n",
    "\n",
    "$$L_{OLS}(\\beta) = ||Y - X\\beta||^2$$\n",
    "\n",
    "As you can see, OLS does not have the regularization term that Ridge regression does. The L2 penalty in Ridge Regression shrinks the coefficients, especially when the regularization parameter $\\lambda$ is large, which can help prevent overfitting especially in scenarios where multicollinearity is present. One of the significant advantages of ridge regression is coefficient shrinkage and reducing model complexity.\n",
    "\n",
    "\n",
    "Here, $\\lambda$ is a tuning parameter (also known as regularization parameter) that decides how much we want to penalize the flexibility of our model.\n",
    "\n",
    "\n",
    "\n",
    "Generally, we use `sklearn` for Ridge estimation. The `statsmodels` library does not have a specific Ridge Regression function similar to `sklearn`."
   ]
  },
  {
   "cell_type": "code",
   "execution_count": null,
   "id": "30d46163-be04-4509-958e-c97d9669a6f4",
   "metadata": {
    "tags": []
   },
   "outputs": [],
   "source": [
    "X_cols = [\n",
    "    \"RV\",\n",
    "    \"TBill3M_ret\",\n",
    "    \"TBill1Y_ret\",\n",
    "    \"Oil_ret\",\n",
    "    \"Gold_ret\",\n",
    "    \"SP_volume_ret\",\n",
    "    \"Return_close_lag1\",\n",
    "    \"Return_close_lag2\",\n",
    "    \"Return_close_lag3\",\n",
    "]\n",
    "X = df[X_cols]\n",
    "y = df[\"Return_close\"]\n",
    "\n",
    "# Fit a Ridge regression model on the training set\n",
    "ridge_reg = Ridge(alpha=0.5)  \n",
    "ridge_reg.fit(X, y)"
   ]
  },
  {
   "cell_type": "code",
   "execution_count": null,
   "id": "078df5c3-1ae6-44d2-9ab4-05b1ed40bc5a",
   "metadata": {
    "tags": []
   },
   "outputs": [],
   "source": [
    "# Get the model parameters\n",
    "intercept = ridge_reg.intercept_\n",
    "coefficients = ridge_reg.coef_\n",
    "\n",
    "print(\"Intercept: \\n\", intercept)\n",
    "print(\"Coefficients: \\n\", coefficients)"
   ]
  },
  {
   "cell_type": "code",
   "execution_count": null,
   "id": "d58bb3a3-14c8-48e2-b075-993c99e9df92",
   "metadata": {
    "tags": []
   },
   "outputs": [],
   "source": [
    "# Evaluate the model\n",
    "y_pred = ridge_reg.predict(X)\n",
    "\n",
    "# Calculate the mean squared error of the predictions\n",
    "mse = mean_squared_error(y, y_pred)\n",
    "print(\"Mean Squared Error: \\n\", mse)"
   ]
  },
  {
   "cell_type": "markdown",
   "id": "a1f4a838-1e1c-4e71-a4fc-12c2e304194b",
   "metadata": {},
   "source": [
    "# Lasso Regression\n",
    "\n",
    "**Lasso (Least Absolute Shrinkage and Selection Operator) Regression** is another regularization technique. It's useful when dealing with feature selection in a model where we have a large number of features.\n",
    "\n",
    "Like Ridge Regression, Lasso also adds a penalty for non-zero coefficients, but unlike Ridge regression which penalizes sum of squared coefficients (the L2 penalty), lasso penalizes the sum of their absolute values (the L1 penalty). As a result, for high values of \\( \\lambda \\), many coefficients are exactly zeroed under Lasso, which is never the case in Ridge.\n",
    "\n",
    "**Objective Function for Lasso Regression**:\n",
    "\n",
    "$$L(\\beta) = ||Y - X\\beta||^2 +  \\lambda  | \\beta_j |_{1} $$\n",
    "\n",
    "Where:\n",
    "- $ \\lambda $ is the Lasso regularization parameter.\n",
    "- $ \\beta_j $ are the model coefficients.\n",
    "\n",
    "While $ \\lambda $ can take any value between 0 and $\\infty$, note that:\n",
    "- When $ \\lambda = 0 $, Lasso produces the same coefficients as a simple linear regression.\n",
    "- When $ \\lambda = \\infty $, all coefficients are zero because of infinite penalty.\n",
    "- When $ 0 < \\lambda < \\infty $, the magnitude of $ \\lambda $ will decide how the model balances fit with complexity.\n",
    "\n",
    "The key difference from Ridge Regression is the L1 penalty can lead to zero coefficients i.e. some of the features are completely eliminated, hence providing a feature selection. This is a useful property for machine learning applications where feature selection is important."
   ]
  },
  {
   "cell_type": "code",
   "execution_count": null,
   "id": "2039859e-38d2-4ba5-a4ad-a265859f4074",
   "metadata": {
    "tags": []
   },
   "outputs": [],
   "source": [
    "lasso_reg = Lasso(alpha=0.1)\n",
    "lasso_reg.fit(X, y)\n",
    "\n",
    "# Get the model parameters\n",
    "intercept = lasso_reg.intercept_\n",
    "coefficients = lasso_reg.coef_\n",
    "\n",
    "print(\"Intercept: \\n\", intercept)\n",
    "print(\"Coefficients: \\n\", coefficients)\n",
    "\n",
    "# Evaluate the model with the test set\n",
    "y_pred = lasso_reg.predict(X)\n",
    "\n",
    "# Calculate the mean squared error of the predictions\n",
    "mse = mean_squared_error(y, y_pred)\n",
    "print(\"Mean Squared Error: \\n\", mse)"
   ]
  },
  {
   "cell_type": "markdown",
   "id": "1b5c6bde-1ce4-44ba-a0bb-ba65eae42d1d",
   "metadata": {},
   "source": [
    "# Elastic Net Regression\n",
    "\n",
    "\n",
    "Elastic Net is a middle ground between Ridge Regression and Lasso. It incorporates penalties from both Lasso and Ridge to get the best of both worlds. Elastic Net aims at minimizing the following loss function:\n",
    "\n",
    "$$L(\\beta) = ||Y - X\\beta||^2 +  \\lambda_1 | \\beta_j |_{1} + \\lambda_2  ||\\beta||^2  $$ \n",
    "\n",
    "Where:\n",
    "- $\\lambda_1$ is the coefficient of L1 penalty, similar to the one used in Lasso.\n",
    "- $\\lambda_2$ is the coefficient of L2 penalty, similar to the one used in Ridge.\n",
    "\n",
    "In other words, Elastic Net is a hybrid of Ridge Regression and Lasso. It works by penalizing the model using both the L2-norm (Ridge) and the L1-norm (Lasso). \n",
    "\n",
    "The key takeaway is that Elastic Net is useful when there are multivariate features which are correlated. Lasso might randomly pick one of these, but elastic-net will take both of them into account. However, it does have a computational cost as it adds an extra hyperparameter to tune.\n"
   ]
  },
  {
   "cell_type": "code",
   "execution_count": null,
   "id": "fbcd07b4-7367-44a0-aece-91edc112297a",
   "metadata": {
    "tags": []
   },
   "outputs": [],
   "source": [
    "# Fit an Elastic Net model on the training set\n",
    "elastic_reg = ElasticNet(\n",
    "    alpha=0.1, l1_ratio=0.5\n",
    ")\n",
    "elastic_reg.fit(X, y)\n",
    "\n",
    "# Get the model parameters\n",
    "intercept = elastic_reg.intercept_\n",
    "coefficients = elastic_reg.coef_\n",
    "\n",
    "print(\"Intercept: \\n\", intercept)\n",
    "print(\"Coefficients: \\n\", coefficients)\n",
    "\n",
    "# Evaluate the model with the test set\n",
    "y_pred = elastic_reg.predict(X)\n",
    "\n",
    "# Calculate the mean squared error of the predictions\n",
    "mse = mean_squared_error(y, y_pred)\n",
    "print(\"Mean Squared Error: \\n\", mse)"
   ]
  },
  {
   "cell_type": "markdown",
   "id": "90df5dcc-5a84-43b7-ade3-bde164af4933",
   "metadata": {},
   "source": [
    "# Polynomial Regression\n",
    "\n",
    "Polynomial Regression is a form of linear regression in which the relationship between $X$ and $Y$ is modeled as an $n$-th degree polynomial. Polynomial regression fits a nonlinear relationship between the independent variable and the depedent variables.\n",
    "\n",
    "Even though it models a nonlinear relationship, Polynomial Regression is still considered a linear regression because the regression function is linear in terms of the coefficients:\n",
    "\n",
    "$$ f(x) = b_0 + b_1 x_1 + b_2 x_1^2 + \\dots + b_n x_1^n $$\n",
    "\n",
    "Here:\n",
    "- $b_0, b_1, \\dots, b_n$ are the coefficients.\n",
    "- $x_1$ is the independent variable.\n",
    "\n",
    "As the degree of the polynomial increases, the model can fit a wider range of curvatures, making it more flexible. However, high-degree polynomials might lead to overfitting, where the model fits the training data closely but performs poorly on new, unseen data.\n",
    "\n",
    "Unlike Ridge, Lasso, Elastic Net which model relationships linearly, Polynomial Regression captures these relationships to an nth-degree polynomial. This allows for a more complex interplay between variables."
   ]
  },
  {
   "cell_type": "code",
   "execution_count": null,
   "id": "ac11e1b7-1439-4f09-ab85-c7314cd291ff",
   "metadata": {
    "tags": []
   },
   "outputs": [],
   "source": [
    "# Create polynomial features\n",
    "poly = PolynomialFeatures(degree=2)  \n",
    "X_poly = poly.fit_transform(X)\n",
    "\n",
    "\n",
    "# Fit a Polynomial Linear Regression model on the transformed training set\n",
    "poly_reg = LinearRegression()\n",
    "poly_reg.fit(X_poly, y)\n",
    "\n",
    "# Get the model parameters\n",
    "intercept = poly_reg.intercept_\n",
    "coefficients = poly_reg.coef_\n",
    "\n",
    "print(\"Intercept: \\n\", intercept)\n",
    "print(\"Coefficients: \\n\", coefficients)\n",
    "\n",
    "# Evaluate the model with the transformed test set\n",
    "y_pred = poly_reg.predict(X_poly)\n",
    "\n",
    "# Calculate the mean squared error of the predictions\n",
    "mse = mean_squared_error(y, y_pred)\n",
    "print(\"Mean Squared Error: \\n\", mse)"
   ]
  },
  {
   "cell_type": "code",
   "execution_count": null,
   "id": "ae54c9ae-227f-4e85-a526-462c82a306cd",
   "metadata": {
    "tags": []
   },
   "outputs": [],
   "source": [
    "coefficients.shape"
   ]
  },
  {
   "cell_type": "markdown",
   "id": "d4576b40-b9c9-4e0b-af30-800bd1579874",
   "metadata": {},
   "source": [
    "# Mixed Linear Models\n",
    "\n",
    "\n",
    "Mixed linear models, also known as multilevel models, hierarchical linear models, or random coefficient models, incorporate both fixed effects and random effects, and are suitable when data is grouped, or hierarchical in nature.\n",
    "\n",
    "- Fixed effects are the usual parameters of interest, which represent the common effect across all entities.\n",
    "- Random effects allow us to model when certain effects vary across the groups or hierarchical levels.\n",
    "\n",
    "In a financial context, we could use fixed effects to represent global financial trends, and random effects to represent trends within a specific sector or group of similar stocks.\n",
    "\n",
    "For instance, considering our dataset, we could consider a mixed model with a fixed effect of the 'Treasury Bill Rate 3 Months' and 'Gold Price' on 'Return_close', and random effects of 'weekday'. This models the idea that the impact of the 'Treasury Bill Rate 3 Months' and 'Gold Price' is constant, but the behavior of the returns may vary across different weekdays.\n",
    "\n",
    "The key difference from Ridge, Lasso, Elastic Net and Robust Regression, is that Mixed Linear Models introduce random effects to capture variability at multivariate levels of hierarchical data. \n",
    "\n"
   ]
  },
  {
   "cell_type": "code",
   "execution_count": null,
   "id": "4d8d32bd-9502-4d9c-b106-80d420784032",
   "metadata": {
    "tags": []
   },
   "outputs": [],
   "source": [
    "# Define the model formula\n",
    "formula = 'Return_close ~ 1 + Q(\"RV\") + Q(\"TBill1Y_ret\")'\n",
    "\n",
    "# Specify the grouping variable\n",
    "groups = df[\"weekday\"]\n",
    "\n",
    "# Fit a mixed linear model on the data\n",
    "mixed_model = smf.mixedlm(formula, df, groups=groups)\n",
    "mixed_model_fit = mixed_model.fit()\n",
    "\n",
    "# Print the summary of the model\n",
    "print(mixed_model_fit.summary())"
   ]
  },
  {
   "cell_type": "markdown",
   "id": "524cdaac-8e14-41f1-bea6-771976cdbcad",
   "metadata": {},
   "source": [
    "# Generalized Linear Models (GLM)\n",
    "\n",
    "Generalized Linear Models (GLM) are a kind of extension to traditional linear models, allowing for response variables that have error distribution models other than a normal distribution. These are highly flexible set of models which include simple linear regression, logistic regression, Poisson regression, and many more as special cases.\n",
    "\n",
    "GLM consists of three components: \n",
    "- A random component, specifying the conditional distribution for the response variable, Y (for example, normal, binomial, Poisson, gamma, etc.).\n",
    "- A systematic component, specifying the set of predictors (also called independent variables) as a linear predictor, η.\n",
    "- A link function, specifying the relationship between the systematic component and the mean of the random component.\n",
    "\n",
    "GLM is a general class of models that includes many well-known models as cases. For example, if the response variable is binary, GLM is equivalent to logistic regression model.\n",
    "\n",
    "Generalized Linear Models (GLMs) provide a framework for modeling response variables that are not necessarily normally distributed. The type of GLM you'd use largely depends on the nature of your response variable and the specific relationships and properties you assume about your data.\n",
    "\n",
    "Here are the common GLM models based on the type of response variable:\n",
    "\n",
    "**Normal (Gaussian) Regression:**\n",
    "- **Response:** Continuous values (any real number).\n",
    "- **Link Function:** Identity (commonly), but others can be used.\n",
    "\n",
    "**Binomial (Logistic) Regression:**\n",
    "- **Response:** Binary outcomes (e.g., 0 or 1, Yes or No).\n",
    "- **Link Function:** Logit is the most common, but Probit and Complementary log-log can also be used.\n",
    "\n",
    "**Poisson Regression:**\n",
    "- **Response:** Count data (non-negative integers).\n",
    "- **Link Function:** Log.\n",
    "\n",
    "**Negative Binomial Regression:**\n",
    "- **Response:** Over-dispersed count data (when variance is greater than the mean, which can be an issue in Poisson regression).\n",
    "- **Link Function:** Log.\n",
    "\n",
    "**Gamma Regression:**\n",
    "- **Response:** Positive continuous data (like time-to-event data which doesn't have negative values).\n",
    "- **Link Function:** Inverse or Log.\n",
    "\n",
    "**Inverse Gaussian Regression:**\n",
    "- **Response:** Positive continuous data.\n",
    "- **Link Function:** Inverse squared.\n",
    "\n",
    "**Multinomial Regression:**\n",
    "- **Response:** Categorical data with more than two levels (e.g., low, medium, high).\n",
    "- **Note:** Technically an extension of GLM, as it models multiple categories.\n",
    "\n",
    "**Tweedie Regression:**\n",
    "- **Response:** Combination of continuous and count data (like insurance claims: many zeros but also continuous positive values).\n",
    "- **Link Function:** Typically the log function.\n",
    "- **Note**: The power parameter in Tweedie determines the type of distribution. For example, power=0 for Normal, power=1 for Poisson, and power=2 for Gamma.\n",
    "\n",
    "When choosing a GLM model:\n",
    "\n",
    "- Analyze the nature of your response variable: Is it continuous? Binary? Count data? Does it have many zeros?\n",
    "\n",
    "- Examine the distribution of residuals: Are there patterns or is the variance constant across predictions?\n",
    "\n",
    "- Consider over-dispersion: For count data, if the variance is much greater than the mean, models like Negative Binomial might be more appropriate than Poisson.\n",
    "\n",
    "If the response variable has a skewed distribution, consider transformations or models like Gamma regression."
   ]
  },
  {
   "cell_type": "code",
   "execution_count": null,
   "id": "bdd4fed8-fccb-4c0c-9861-737faf2c6164",
   "metadata": {
    "tags": []
   },
   "outputs": [],
   "source": [
    "# Assuming `df` is your dataframe\n",
    "X = df[X_cols]\n",
    "y = df[\"Return_close\"]\n",
    "\n",
    "# Add a constant to the predictors (i.e., bias or intercept)\n",
    "X = sm.add_constant(X)\n",
    "\n",
    "# Fit a GLM\n",
    "model = sm.GLM(y, X, family=sm.families.Gaussian()).fit()\n",
    "\n",
    "# Display model summary\n",
    "print(model.summary())"
   ]
  },
  {
   "cell_type": "markdown",
   "id": "9320cbfa-3b63-45bf-a841-38bc4ae2d2bd",
   "metadata": {},
   "source": [
    "\n",
    "**Response Variable Distribution**:\n",
    "- **GLM - Distribution Flexibility**: Allows for the response variable to follow different distributions, not just the normal distribution. Commonly used distributions include binomial, Poisson, and gamma. Especially useful when the response variable is categorical, a count, or skewed.\n",
    "- **Multivariate OLS - Distribution Assumption**: Assumes that the errors/residuals of the response variable are normally distributed. The response variable itself doesn't need to be normal but is typically continuous.\n",
    "\n",
    "**Link Function**:\n",
    "- **GLM**: Incorporates a link function to relate the linear predictor to the mean of the distribution function, allowing for non-linear relationships between predictors and response. Common link functions include the logit for binomial distribution and log for Poisson.\n",
    "- **Multivariate OLS**: Uses the identity link, signifying a linear relationship between predictors and response.\n",
    "\n",
    "**Response Variable**:\n",
    "- **GLM**: Can handle various types of response variables, such as continuous, binary, and count.\n",
    "- **Multivariate OLS**: Typically handles a continuous response variable.\n",
    "\n",
    "**Application**:\n",
    "- **GLM**: Useful in diverse scenarios, such as logistic regression for binary outcomes and Poisson regression for count data.\n",
    "- **Multivariate OLS**: Applicable when the relationship between predictors and response is linear, aiming to minimize the sum of squared differences between observed and predicted values.\n",
    "\n",
    "**Multivariate OLS Nuance**:\n",
    "- The term \"multivariate\" in regression can be confusing. In certain contexts, it means having multiple predictors (or independent variables). In others, it signifies having multiple response (or dependent) variables. The majority of regression tasks in practice involve \"multiple regression\" with a single response variable and multiple predictors. If there are multiple response variables, then it's \"multivariate multiple regression\".\n",
    "\n",
    "\n",
    "Look at `from sklearn import linear_model` for more GLM variants as indicated above.\n"
   ]
  },
  {
   "cell_type": "markdown",
   "id": "2119b1ca-3c21-45f0-bc70-129bf3159886",
   "metadata": {},
   "source": [
    "# Appendix: Background Theory\n",
    "\n",
    "Models from econometrics, which is the intersection of Economics and Statistics.An econometric model is an association between $y_{i}$ and $x_{i}$ E.g.:\n",
    "- personal income $y_{i}$ and personal QI $x_{i}$\n",
    "- stock return $y_{i}$ and market return $x_{i}$\n",
    "- current return $y_{t}$ and past returns $y_{t-h}$\n",
    "\n",
    "The econometric model provides an \"approximate,\" i.e., a probabilistic description of the association. The relation will be stochastic and not deterministic. Econometrics provides estimation methods for the parametric model.\n",
    "\n",
    "## Ordinary least squares (OLS): a first linear model\n",
    "\n",
    "Linear model\n",
    "$$\n",
    "\\begin{aligned}\n",
    "y_{i} &=f\\left(x_{i 1}, x_{i 2}, \\ldots, x_{i k-1}\\right)+\\varepsilon_{i} \\\\\n",
    "&=\\beta_{0}+\\beta_{1} x_{i 1}+\\beta_{2} x_{i 2}+\\cdots+\\beta_{K} x_{i k-1}+\\varepsilon_{i} \\quad i=1, \\ldots, n\n",
    "\\end{aligned}\n",
    "$$\n",
    "where\n",
    "- $y_{i}:$ dependent or explained variable (observed)\n",
    "- $x_{i}$ : regressors or covariates or explanatory variables (observed)\n",
    "- $\\varepsilon_{i}:$ error term or random disturbance (unobserved)\n",
    "- $\\beta_{i}:$ unknown parameters or regression coefficient (unobserved)\n",
    "\n",
    "$$\n",
    "y_{i}=\\beta_{0}+\\beta_{1} x_{i 1}+\\beta_{2} x_{i 2}+\\cdots+\\beta_{K} x_{i k-1}+\\varepsilon_{i}\n",
    "$$\n",
    "can be written in vector notation\n",
    "$$\n",
    "y_{i}=\\underbrace{x_{i}^{\\prime}}_{1 \\times k} \\underbrace{\\beta}_{k \\times 1}+\\varepsilon_{i}\n",
    "$$\n",
    "and in the even more compact matrix notation\n",
    "$$\n",
    "\\underbrace{Y}_{n \\times 1}=\\underbrace{X}_{n \\times k} \\underbrace{\\beta}_{k \\times 1}+\\varepsilon\n",
    "$$\n",
    "with\n",
    "\n",
    "### OLS assumptions\n",
    "\n",
    "Standard OLS Assumptions:\n",
    "- H.1 Strict exogeneity of regressors: $\\mathbb{E}[\\varepsilon \\mid X]=0$\n",
    "Note: $\\varepsilon_{i}$ does not depend on any $x_{j}$, neither past nor future $x$ s\n",
    "$$\n",
    "\\begin{aligned}\n",
    "&\\mathbb{E}[\\varepsilon \\mid X]=0 \\Rightarrow \\mathbb{E}[\\varepsilon]=0 \\text { (by Law of Total Exp } \\mathbb{E}[\\mathbb{E}[\\varepsilon \\mid x]]=\\mathbb{E}[\\varepsilon]) \\\\\n",
    "&\\mathbb{E}[\\varepsilon \\mid X]=0 \\Rightarrow \\mathbb{E}(X \\varepsilon)=\\underbrace{\\mathbb{E}[\\mathbb{E}(X \\varepsilon \\mid X)]}_{\\text {Law of Total Exp }}=\\underbrace{\\mathbb{E}[X \\mathbb{E}(\\varepsilon \\mid X)]}_{\\text {is measurable }}=\\underbrace{0}_{\\mathbb{E}(\\varepsilon \\mid X)=0}\n",
    "\\end{aligned}\n",
    "$$\n",
    "$\\mathbb{E}[\\varepsilon \\mid X]=0 \\Rightarrow \\mathbb{E}[y \\mid X]=X \\beta \\quad$ i.e. $X \\beta$ is the conditional mean of $y \\mid X$.\n",
    "- H.2 Identification condition: $X$ is $n \\times k$ with rank $k$ with probability 1\n",
    "- H.3 Spherical errors $\\operatorname{Var}[\\varepsilon \\mid X]=\\sigma^{2} / n$\n",
    "$\\Rightarrow$ homoscedastic: $\\operatorname{Var}\\left[\\varepsilon_{i} \\mid X\\right]=\\sigma^{2}, \\quad \\forall i=1, \\ldots, n$ and\n",
    "uncorrelated errors: $\\operatorname{Cov}\\left[\\varepsilon_{i} \\varepsilon_{j} \\mid X\\right]=0 \\quad \\forall i \\neq j$\n",
    "\n",
    "## A visual example\n",
    "\n",
    "E.g., univariate regression: $y_{i}=\\alpha+\\beta x_{i}+\\varepsilon_{i}$\n",
    "with $\\quad \\varepsilon_{i} \\sim N\\left(0, \\sigma^{2}\\right) \\quad \\forall \\dot{i}$\n",
    "\n",
    "\n",
    "<img src=\"images/lr.PNG\" width=\"600\">\n",
    "\n",
    "    \n",
    "<img src=\"images/olsmin.PNG\" width=\"600\">\n",
    "\n",
    "## OLS estimation\n",
    "\n",
    "Goal: statistical inference on $\\beta$, e.g. estimate $\\beta$\n",
    "Least Square finds $\\beta$ that minimizes the sum of squared residuals in $Y=X \\beta+\\varepsilon$ :\n",
    "$$\n",
    "\\begin{aligned}\n",
    "S S &=\\sum_{i=1}^{n} \\varepsilon_{i}^{2}=\\varepsilon^{\\prime} \\varepsilon \\\\\n",
    "=&(Y-X \\beta)^{\\prime}(Y-X \\beta) \\\\\n",
    "=& Y^{\\prime} Y-2 X^{\\prime} Y \\beta+\\beta^{\\prime} X^{\\prime} X \\beta \\\\\n",
    "\\text { F.O.C. } \\quad &: \\quad-2 X^{\\prime} Y+2 X^{\\prime} X \\beta=0 \\\\\n",
    "& \\Rightarrow \\quad X^{\\prime}(Y-X \\beta)=0 \\\\\n",
    "& \\Rightarrow \\quad X^{\\prime} X \\beta=X^{\\prime} Y\n",
    "\\end{aligned}\n",
    "$$\n",
    "$\\Rightarrow$ OLS estimator:\n",
    "$$\n",
    "\\begin{aligned}\n",
    "\\hat{\\beta} &=\\left(X^{\\prime} X\\right)^{-1} X^{\\prime} Y \\\\\n",
    "&=\\left(\\sum_{i=1}^{n} x_{i} x_{i}^{\\prime}\\right)^{-1}\\left(\\sum_{i=1}^{n} x_{i} y_{i}\\right)\n",
    "\\end{aligned}\n",
    "$$\n",
    "\n",
    "Unbiasedness: $\\mathbb{E}[\\hat{\\beta} \\mid X]=\\beta$\n",
    "$$\n",
    "\\hat{\\beta}=\\left(X^{\\prime} X\\right)^{-1} X^{\\prime}(X \\beta+\\varepsilon)=\\beta+\\left(X^{\\prime} X\\right)^{-1} X^{\\prime} \\varepsilon\n",
    "$$\n",
    "Then\n",
    "$$\n",
    "\\mathbb{E}[\\hat{\\beta} \\mid X]=\\beta+\\left(X^{\\prime} X\\right)^{-1} X^{\\prime} \\underbrace{\\mathbb{E}[\\varepsilon \\mid X]}_{=0(H .1)}=\\beta\n",
    "$$\n",
    "- Variance: $\\operatorname{Var}(\\hat{\\beta} \\mid X)=\\sigma^{2}\\left(X^{\\prime} X\\right)^{-1}$\n",
    "$$\n",
    "\\operatorname{Var}[\\hat{\\beta} \\mid X]=\\left(X^{\\prime} X\\right)^{-1} X^{\\prime} \\underbrace{\\operatorname{Var}[\\varepsilon \\mid X]}_{\\sigma^{2} I_{n}(H .3)} X\\left(X^{\\prime} X\\right)^{-1}=\\sigma^{2}\\left(X^{\\prime} X\\right)^{-1}\n",
    "$$\n",
    "- Efficiency (Gauss-Markov Theorem): $\\hat{\\beta}$ is $B L U E$, i.e. $\\operatorname{Var}(\\hat{\\beta} \\mid X) \\leq \\operatorname{Var}(\\tilde{\\beta} \\mid X), \\forall \\tilde{\\beta}$ linear unbiased estimator (prove it)\n",
    "\n",
    "## Goodness of fit\n",
    "\n",
    "\n",
    "being $\\hat{Y} \\perp e$ then\n",
    "$$\n",
    "\\begin{aligned}\n",
    "\\operatorname{Var}(Y) &=\\operatorname{Var}(\\hat{Y})+\\operatorname{Var}(e) \\\\\n",
    "\\frac{T S S}{n} &=\\frac{E S S}{n}+\\frac{R S S}{n} \\\\\n",
    "\\text { Total Var } &=\\text { Explained Var + Residual Var }\n",
    "\\end{aligned}\n",
    "$$\n",
    "A common measure of goodness of fit is the coefficient of determination $R^{2}$ :\n",
    "$$\n",
    "R^{2}=\\frac{\\text { Explained Var }}{\\text { Total Var }}=1-\\frac{\\text { Residual Var }}{\\text { Total Var }}=1-\\frac{R S S}{T S S}\n",
    "$$\n",
    "since $R^{2}$ always increases when a regressor is added (even if uncorrelated)\n",
    "$$\n",
    "\\text { Adjusted } R^{2}=1-\\frac{\\text { Residual Var } /(n-k)}{\\text { Total Var } /(n-1)}\n",
    "$$\n",
    "\n",
    "<img src=\"images/gof_lr.PNG\" width=\"600\">\n"
   ]
  },
  {
   "cell_type": "code",
   "execution_count": null,
   "id": "52e102ce-6c6b-4070-8be9-9377e89a9b22",
   "metadata": {},
   "outputs": [],
   "source": []
  }
 ],
 "metadata": {
  "kernelspec": {
   "display_name": "Python 3 (ipykernel)",
   "language": "python",
   "name": "python3"
  },
  "language_info": {
   "codemirror_mode": {
    "name": "ipython",
    "version": 3
   },
   "file_extension": ".py",
   "mimetype": "text/x-python",
   "name": "python",
   "nbconvert_exporter": "python",
   "pygments_lexer": "ipython3",
   "version": "3.8.12"
  }
 },
 "nbformat": 4,
 "nbformat_minor": 5
}

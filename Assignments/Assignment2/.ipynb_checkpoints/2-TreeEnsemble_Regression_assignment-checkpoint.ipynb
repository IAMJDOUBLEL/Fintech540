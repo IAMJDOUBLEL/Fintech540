{
 "cells": [
  {
   "cell_type": "markdown",
   "id": "f3ab9b3c-432a-4e97-8555-f4ed7c4c61f2",
   "metadata": {
    "deletable": false,
    "editable": false,
    "tags": []
   },
   "source": [
    "# Second Assignment - FINTECH 540 - Machine Learning for FinTech - Cryptocurrency Options Data analysis\n",
    "\n",
    "In this assignment, you'll work with cryptocurrency options transaction data between 2022-08-04 and 2022-11-18 from Binance. The primary objective is to achieve a satisfactory performance in predicting option prices. This is a regression task, and you must ensure that your model can predict well on the test set (out-of-sample).\n",
    "\n",
    "## Dataset Overview\n",
    "\n",
    "You have been provided with a dataset containing the following columns:\n",
    "\n",
    "- **Symbol**: Unique identifier for each option contract. For instance, the option contract *ETH-221125-900-C* refers to a Call option (C) for Ethereum (ETH), with a strike price (also called execution price) of 900, expiring on November 25th, 2022 (221125. If a holder has this option, they can buy Ethereum at a price of 900 units of currency on or before this expiration date, regardless of Ethereum's actual market price.\n",
    "- **Time**: Timestamp indicating when the trade occurred.\n",
    "- **Price**: Price at which the option was traded. **This is the target you want to predict for this task**.\n",
    "- **Quantity (Qty)**: Number of option contracts traded.\n",
    "- **Strike Price**: The predetermined price at which the holder can buy or sell the underlying asset.\n",
    "- **Underlying Price**: The current market price of the underlying asset (e.g., BTC or ETH for this dataset).\n",
    "- **Time to Maturity (Tt)**: Duration (expressed as a fraction of a year) until the option's expiration date. For instance, if `Tt=0.145152`, there are 0.145152*365 = 52.98 days until the expiration. The calculation of the Time to Maturity has already been provided to you, and you do not need to bring it back to several days for the sake of this exercise. \n",
    "- **RV_lag0, RV_lag7, RV_lag15, RV_lag30**: Realized underlying asset volatility at various lag values. The lag 0 reflects the underlying asset's volatility on the day the transaction occurred.\n",
    "- **Underlying Asset**: The asset upon which the option contract is based (e.g., BTC or ETH).\n",
    "- **Option Type**: Specifies whether it's a 'Call' (C) or 'Put' (P) option.\n",
    "- **Side**: Represents whether the trade was a buy (`1`) or a sell (`-1`) since these are transaction data that reflect both sides of the order book.\n",
    "\n",
    "## Task and General Hints\n",
    "\n",
    "In this assignment, you are tasked with building a predictive regression model on cryptocurrency options data. Your primary goal is to ensure accurate out-of-sample predictions and evaluate them with the metrics below.\n",
    "\n",
    "To guide you through this process, consider breaking down your tasks into the following three phases:\n",
    "\n",
    "**Preprocessing**\n",
    "The dataset is already free of inconsistencies, missing values, or outliers. \n",
    "- **Feature Engineering**: You might want to create additional variables, perform transformations, or encode categorical variables if necessary. Ensure that all the variables you want to use for modeling are correctly preprocessed. You don't need to use all the variables necessarily. You will eventually refine your choices while modeling.\n",
    "- **Data Splitting**: Partition your data into training and test sets. Ensure you set the seed to `42` for reproducibility and use `0.33` as the test size.\n",
    "\n",
    "**Model Selection**\n",
    "- This notebook focuses on using ensembles of trees for regression. You can experiment with all the ensembles we have seen in class. However, feel free to compare the performance against a linear regression model. \n",
    "\n",
    "**Model Tuning and Evaluation**\n",
    "- Once you've selected a model, you'll want to fine-tune its parameters to achieve the best out-of-sample performance.\n",
    "- You may adjust parameters manually, but consider using Grid Search or Randomized Search for a more systematic and potentially practical approach. \n",
    "- When employing Grid Search (or Randomized Search), you can use cross-validation schemes provided in **Notebook 8**.\n",
    "- Evaluate your final model using the $R^2$ and the Root Mean Squared Error (RMSE) metrics from `scikit-learn.` For the RMSE, you can either calculate the MSE and take the square root of it or use the `mean_squared_error` function from `scikit-learn` and pass the parameter `squared=False.` Remember, this is the primary criterion on which you will be graded. You can carry out the calculations on your own while developing your solution. However, the final cell of this notebook is also going to take care of it, so follow the naming convention stated at the bottom of the notebook.\n",
    "\n",
    "**Note**: Parameter choices and tuning should be made thoughtfully while up to you. Carefully study the documentation of the tree ensemble you are testing to see the possible parameters you can fine-tune. In notebook 8, you have the structure of a simple grid search over a small grid of parameters. You can borrow that structure and modify it accordingly.\n",
    "\n",
    "**IMPORTANT REMARK**: \n",
    "\n",
    "In scikit-learn, if you use cross-validation functions like `cross_val_score` or `GridSearchCV` or `RandomizedGridSearchCV` with a specified cross-validation scheme, you only need to pass the training dataset. The cross-validation function will automatically split the training data into training and validation subsets multiple times according to the selected cross-validation strategy. Therefore, creating a validation set to tune the hyperparameters is unnecessary.\n",
    "\n",
    "Instead, you have to use the test set obtained from the split solely as data the model has never seen before. The results on that part of the dataset are those that are going to provide your grade.\n",
    "\n",
    "## Grading Rubric\n",
    "\n",
    "Your grade will be determined by combining the $R^2$ value and the **normalized Root Mean Squared Error (RMSE)** your model achieves on the test set. Specifically, your grade will be calculated as:\n",
    "\n",
    "$$ \\text{Grade} = (0.7 \\times R^2 + 0.3 \\times \\text{Normalized RMSE}) \\times 100 $$\n",
    "\n",
    "which will be a number between 0 and 100. Grades may be curved before being released.\n",
    "\n",
    "The normalization for RMSE is defined as:\n",
    "\n",
    "$$ \\text{Normalized RMSE} = 1 - \\left( \\frac{\\text{RMSE}}{\\text{MAX_POSSIBLE_RMSE}} \\right) $$\n",
    "\n",
    "Where `MAX_POSSIBLE_RMSE` represents a domain-specific value that signifies the worst possible RMSE for your dataset, which could be set as the standard deviation of the target variable. This normalization ensures that the RMSE value is scaled between 0 (worst) and 1 (best).\n",
    "\n",
    "**Rationale**\n",
    "\n",
    "The rationale for using both $R^2$ and **RMSE** in your grade is to ensure a holistic assessment of your model's performance:\n",
    "\n",
    "- **$R^2$** captures the proportion of the variance in the dependent variable that is predictable from the independent variables. A higher $R^2$ indicates a model that explains more of the variation, providing insight into the model's goodness of fit.\n",
    "  \n",
    "- **RMSE** measures the average magnitude of the errors between predicted and observed values. It offers a more direct interpretation of how much, on average, predictions deviate from the actual values, allowing for a clear understanding of the model's accuracy. The RMSE is normalized to allow being combined with the $R^2$ and results in a number between 0 and 100.\n",
    "\n",
    "By weighting $R^2$ and **RMSE** with weights of 0.7 and 0.3, respectively, we emphasize the model's ability to explain variance while holding it accountable for its accuracy in terms of error magnitude.\n",
    "\n",
    "The quality of the prediction assessed by those metrics will result from all the choices you made when it comes to preprocessing features, including them into a model, selecting and evaluating a proper regression model, and eventually doing hyperparameter optimization. "
   ]
  },
  {
   "cell_type": "code",
   "execution_count": 27,
   "id": "75d1e90f-9e63-4138-81f6-4dd08fd51d1a",
   "metadata": {
    "tags": []
   },
   "outputs": [],
   "source": [
    "from sklearn.model_selection import train_test_split\n",
    "from sklearn.linear_model import LinearRegression\n",
    "from sklearn.model_selection import train_test_split, GridSearchCV\n",
    "from sklearn.ensemble import RandomForestRegressor\n",
    "from sklearn.metrics import mean_squared_error, r2_score\n",
    "import pandas as pd\n",
    "import numpy as np\n",
    "\n",
    "df = pd.read_csv('raw_options_binance.csv')\n",
    "df.drop('symbol', axis=1, inplace=True)\n",
    "df.drop('time', axis=1,inplace=True)\n",
    "df['underlying_asset'] = df['underlying_asset'].map({'BTC': 1, 'ETH': 0})\n",
    "df['option_type'] = df['option_type'].map({'C': 1, 'P': 0})\n",
    "X = df.drop('price', axis=1)\n",
    "y = df['price']\n",
    "X_train, X_test, y_train, y_test = train_test_split(X, y, test_size=0.33, random_state=42)"
   ]
  },
  {
   "cell_type": "code",
   "execution_count": 25,
   "id": "acd33660-b004-4732-85ac-82bee2638aad",
   "metadata": {
    "tags": []
   },
   "outputs": [],
   "source": [
    "params = {\n",
    "    'n_estimators': [50, 100, 200],\n",
    "    'max_depth': [None, 10, 20, 30],\n",
    "    'min_samples_split': [2, 5, 10]\n",
    "}\n",
    "\n",
    "grid_search = GridSearchCV(RandomForestRegressor(), params, cv=5)\n",
    "grid_search.fit(X_train, y_train)\n",
    "best_model = grid_search.best_estimator_\n"
   ]
  },
  {
   "cell_type": "code",
   "execution_count": 30,
   "id": "388897b8-8c26-4209-be61-2fe7939132fa",
   "metadata": {
    "tags": []
   },
   "outputs": [],
   "source": [
    "y_test_pred = best_model.predict(X_test)\n",
    "MAX_POSSIBLE_RMSE = np.sqrt(mean_squared_error(y_test, y_test_pred))"
   ]
  },
  {
   "cell_type": "markdown",
   "id": "31d33b67-700b-44ad-949c-d70ed2667150",
   "metadata": {
    "deletable": false,
    "editable": false,
    "tags": []
   },
   "source": [
    "**Instructions to let the next code cell run:**\n",
    "\n",
    "Before running the cell below, ensure the following:\n",
    "1. The target variable of your problem has to be named exactly `y_test`, while the out-of-sample prediction variable has to be named `y_test_pred`. Also the calculation of `MAX_POSSIBLE_RMSE` relies on this naming convention to determine the standard deviation of the test target values. \n",
    "\n",
    "By adhering to these naming conventions, the grading cell can compute the final score without any issues."
   ]
  },
  {
   "cell_type": "code",
   "execution_count": 31,
   "id": "35dd6ac5-e25f-4866-94b6-3773918dda59",
   "metadata": {
    "deletable": false,
    "editable": false,
    "tags": []
   },
   "outputs": [
    {
     "name": "stdout",
     "output_type": "stream",
     "text": [
      "The grade for this assignment is  93\n"
     ]
    }
   ],
   "source": [
    "import math\n",
    "from sklearn.metrics import mean_squared_error, r2_score\n",
    "MAX_POSSIBLE_RMSE = y_test.std()\n",
    "normalized_rmse = 1 - (mean_squared_error(y_test,y_test_pred,squared=False) / MAX_POSSIBLE_RMSE)\n",
    "R2 = r2_score(y_test,y_test_pred)\n",
    "\n",
    "Grade = 0.7 * R2 + 0.3 * normalized_rmse\n",
    "print('The grade for this assignment is ',math.ceil(Grade*100))"
   ]
  }
 ],
 "metadata": {
  "kernelspec": {
   "display_name": "Python 3 (ipykernel)",
   "language": "python",
   "name": "python3"
  },
  "language_info": {
   "codemirror_mode": {
    "name": "ipython",
    "version": 3
   },
   "file_extension": ".py",
   "mimetype": "text/x-python",
   "name": "python",
   "nbconvert_exporter": "python",
   "pygments_lexer": "ipython3",
   "version": "3.11.4"
  }
 },
 "nbformat": 4,
 "nbformat_minor": 5
}
